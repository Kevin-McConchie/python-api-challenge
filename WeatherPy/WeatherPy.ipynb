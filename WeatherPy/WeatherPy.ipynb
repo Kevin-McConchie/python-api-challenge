{
 "cells": [
  {
   "cell_type": "markdown",
   "metadata": {},
   "source": [
    "#### Observations\n",
    "* "
   ]
  },
  {
   "cell_type": "code",
   "execution_count": 1,
   "metadata": {
    "scrolled": true
   },
   "outputs": [],
   "source": [
    "#dependencies\n",
    "import os\n",
    "import requests\n",
    "import json\n",
    "import pandas as pd\n",
    "import random\n",
    "import numpy as np\n",
    "from citipy import citipy\n",
    "import gmaps\n",
    "import matplotlib.pyplot as plt\n",
    "from config import w_api"
   ]
  },
  {
   "cell_type": "markdown",
   "metadata": {},
   "source": [
    "## Generate Cities List"
   ]
  },
  {
   "cell_type": "code",
   "execution_count": 2,
   "metadata": {},
   "outputs": [],
   "source": [
    "# cities list\n",
    "cities=[]\n",
    "# latitude and longitude list\n",
    "loc=[]\n",
    "\n",
    "# crate random latitude and longitude locations\n",
    "lat = np.random.uniform(low=-90,high=90.,size=1500)\n",
    "lng= np.random.uniform(low=-180,high=180.,size=1500)\n",
    "\n",
    "# combine them into a list\n",
    "locs= zip(lat,lng)\n",
    "\n",
    "# print(tuple(loc))\n"
   ]
  },
  {
   "cell_type": "code",
   "execution_count": 3,
   "metadata": {},
   "outputs": [
    {
     "data": {
      "text/plain": [
       "622"
      ]
     },
     "execution_count": 3,
     "metadata": {},
     "output_type": "execute_result"
    }
   ],
   "source": [
    "# pick cities closest to random locations\n",
    "for loc in locs:\n",
    "    city = citipy.nearest_city(loc[0],loc[1]).city_name\n",
    "    \n",
    "    # check if city is in list, if not, add it.\n",
    "    if city not in cities:\n",
    "        cities.append(city)\n",
    "\n",
    "# confirm number of cities\n",
    "len(cities)\n"
   ]
  },
  {
   "cell_type": "markdown",
   "metadata": {},
   "source": [
    "### Perform API Calls\n",
    "* Perform a weather check on each city using a series of successive API calls.\n",
    "* Include a print log of each city as it'sbeing processed (with the city number and city name).\n"
   ]
  },
  {
   "cell_type": "code",
   "execution_count": 4,
   "metadata": {
    "scrolled": true
   },
   "outputs": [
    {
     "name": "stdout",
     "output_type": "stream",
     "text": [
      "Beginning Data Retrieval \n",
      "-----------------------------\n",
      "Processing Record 1 of Set 1 | mar del plata\n",
      "Processing Record 2 of Set 1 | vaini\n",
      "Processing Record 3 of Set 1 | praia da vitoria\n",
      "Processing Record 4 of Set 1 | atuona\n",
      "Processing Record 5 of Set 1 | hithadhoo\n",
      "Processing Record 6 of Set 1 | punta arenas\n",
      "Processing Record 7 of Set 1 | grand forks\n",
      "Processing Record 8 of Set 1 | sentyabrskiy\n",
      "City not found. Skipping...\n",
      "Processing Record 9 of Set 1 | qalyub\n",
      "Processing Record 10 of Set 1 | kapaa\n",
      "Processing Record 11 of Set 1 | maumere\n",
      "Processing Record 12 of Set 1 | khatanga\n",
      "Processing Record 13 of Set 1 | vardo\n",
      "Processing Record 14 of Set 1 | port elizabeth\n",
      "Processing Record 15 of Set 1 | mazagao\n",
      "Processing Record 16 of Set 1 | santa maria\n",
      "Processing Record 17 of Set 1 | pangnirtung\n",
      "Processing Record 18 of Set 1 | tasiilaq\n",
      "Processing Record 19 of Set 1 | arys\n",
      "Processing Record 20 of Set 1 | torbay\n",
      "Processing Record 21 of Set 1 | hovd\n",
      "Processing Record 22 of Set 1 | lulea\n",
      "Processing Record 23 of Set 1 | sergeyevka\n",
      "Processing Record 24 of Set 1 | saleaula\n",
      "City not found. Skipping...\n",
      "Processing Record 25 of Set 1 | matagami\n",
      "Processing Record 26 of Set 1 | grand river south east\n",
      "City not found. Skipping...\n",
      "Processing Record 27 of Set 1 | phan rang\n",
      "City not found. Skipping...\n",
      "Processing Record 28 of Set 1 | new norfolk\n",
      "Processing Record 29 of Set 1 | sechura\n",
      "Processing Record 30 of Set 1 | saint-pierre\n",
      "Processing Record 31 of Set 1 | dikson\n",
      "Processing Record 32 of Set 1 | albany\n",
      "Processing Record 33 of Set 1 | cape town\n",
      "Processing Record 34 of Set 1 | rikitea\n",
      "Processing Record 35 of Set 1 | kipini\n",
      "Processing Record 36 of Set 1 | hobart\n",
      "Processing Record 37 of Set 1 | vila franca do campo\n",
      "Processing Record 38 of Set 1 | tuktoyaktuk\n",
      "Processing Record 39 of Set 1 | upernavik\n",
      "Processing Record 40 of Set 1 | garowe\n",
      "Processing Record 41 of Set 1 | zhanakorgan\n",
      "Processing Record 42 of Set 1 | kruisfontein\n",
      "Processing Record 43 of Set 1 | jamestown\n",
      "Processing Record 44 of Set 1 | porto belo\n",
      "Processing Record 45 of Set 1 | husavik\n",
      "Processing Record 46 of Set 1 | carnarvon\n",
      "Processing Record 47 of Set 1 | avera\n",
      "Processing Record 48 of Set 1 | tual\n",
      "Processing Record 49 of Set 1 | ushuaia\n",
      "Processing Record 50 of Set 1 | concarneau\n",
      "Processing Record 0 of Set 2 | mataura\n",
      "Processing Record 1 of Set 2 | tahta\n",
      "Processing Record 2 of Set 2 | vallenar\n",
      "Processing Record 3 of Set 2 | clyde river\n",
      "Processing Record 4 of Set 2 | sorvag\n",
      "City not found. Skipping...\n",
      "Processing Record 5 of Set 2 | komsomolskiy\n",
      "Processing Record 6 of Set 2 | kalaleh\n",
      "Processing Record 7 of Set 2 | champerico\n",
      "Processing Record 8 of Set 2 | barentsburg\n",
      "City not found. Skipping...\n",
      "Processing Record 9 of Set 2 | east london\n",
      "Processing Record 10 of Set 2 | mpika\n",
      "Processing Record 11 of Set 2 | busselton\n",
      "Processing Record 12 of Set 2 | nishihara\n",
      "Processing Record 13 of Set 2 | gigmoto\n",
      "Processing Record 14 of Set 2 | vanimo\n",
      "Processing Record 15 of Set 2 | bluff\n",
      "Processing Record 16 of Set 2 | vao\n",
      "Processing Record 17 of Set 2 | georgetown\n",
      "Processing Record 18 of Set 2 | barrow\n",
      "Processing Record 19 of Set 2 | port-cartier\n",
      "Processing Record 20 of Set 2 | huarmey\n",
      "Processing Record 21 of Set 2 | baruun-urt\n",
      "Processing Record 22 of Set 2 | cacu\n",
      "Processing Record 23 of Set 2 | victoria\n",
      "Processing Record 24 of Set 2 | hervey bay\n",
      "Processing Record 25 of Set 2 | stoyba\n",
      "City not found. Skipping...\n",
      "Processing Record 26 of Set 2 | vaovai\n",
      "City not found. Skipping...\n",
      "Processing Record 27 of Set 2 | nikolskoye\n",
      "Processing Record 28 of Set 2 | pevek\n",
      "Processing Record 29 of Set 2 | mount gambier\n",
      "Processing Record 30 of Set 2 | olafsvik\n",
      "Processing Record 31 of Set 2 | bredasdorp\n",
      "Processing Record 32 of Set 2 | provideniya\n",
      "Processing Record 33 of Set 2 | namibe\n",
      "Processing Record 34 of Set 2 | codrington\n",
      "Processing Record 35 of Set 2 | hay river\n",
      "Processing Record 36 of Set 2 | robertsport\n",
      "Processing Record 37 of Set 2 | puerto ayora\n",
      "Processing Record 38 of Set 2 | bonthe\n",
      "Processing Record 39 of Set 2 | paamiut\n",
      "Processing Record 40 of Set 2 | yumen\n",
      "Processing Record 41 of Set 2 | katsuura\n",
      "Processing Record 42 of Set 2 | butaritari\n",
      "Processing Record 43 of Set 2 | padang\n",
      "Processing Record 44 of Set 2 | hobyo\n",
      "Processing Record 45 of Set 2 | narsaq\n",
      "Processing Record 46 of Set 2 | mahebourg\n",
      "Processing Record 47 of Set 2 | atherton\n",
      "Processing Record 48 of Set 2 | qaanaaq\n",
      "Processing Record 49 of Set 2 | hermanus\n",
      "Processing Record 0 of Set 3 | gat\n",
      "Processing Record 1 of Set 3 | muisne\n",
      "Processing Record 2 of Set 3 | diapaga\n",
      "Processing Record 3 of Set 3 | saint george\n",
      "Processing Record 4 of Set 3 | salinopolis\n",
      "Processing Record 5 of Set 3 | ayabaca\n",
      "Processing Record 6 of Set 3 | marzuq\n",
      "Processing Record 7 of Set 3 | tsihombe\n",
      "City not found. Skipping...\n",
      "Processing Record 8 of Set 3 | castro\n",
      "Processing Record 9 of Set 3 | micheweni\n",
      "Processing Record 10 of Set 3 | jiangyou\n",
      "Processing Record 11 of Set 3 | mazamari\n",
      "Processing Record 12 of Set 3 | saquarema\n",
      "Processing Record 13 of Set 3 | la ronge\n",
      "Processing Record 14 of Set 3 | illoqqortoormiut\n",
      "City not found. Skipping...\n",
      "Processing Record 15 of Set 3 | lanzhou\n",
      "Processing Record 16 of Set 3 | chuy\n",
      "Processing Record 17 of Set 3 | youkounkoun\n",
      "Processing Record 18 of Set 3 | port-gentil\n",
      "Processing Record 19 of Set 3 | ust-koksa\n",
      "Processing Record 20 of Set 3 | taolanaro\n",
      "City not found. Skipping...\n",
      "Processing Record 21 of Set 3 | buluang\n",
      "Processing Record 22 of Set 3 | daru\n",
      "Processing Record 23 of Set 3 | tiksi\n",
      "Processing Record 24 of Set 3 | poso\n",
      "Processing Record 25 of Set 3 | isla mujeres\n",
      "Processing Record 26 of Set 3 | cabedelo\n",
      "Processing Record 27 of Set 3 | tevaitoa\n",
      "Processing Record 28 of Set 3 | galiwinku\n",
      "City not found. Skipping...\n",
      "Processing Record 29 of Set 3 | santiago del estero\n",
      "Processing Record 30 of Set 3 | lebu\n",
      "Processing Record 31 of Set 3 | cherskiy\n",
      "Processing Record 32 of Set 3 | talnakh\n",
      "Processing Record 33 of Set 3 | severo-kurilsk\n",
      "Processing Record 34 of Set 3 | kodiak\n",
      "Processing Record 35 of Set 3 | ambilobe\n",
      "Processing Record 36 of Set 3 | ribeira grande\n",
      "Processing Record 37 of Set 3 | las margaritas\n",
      "Processing Record 38 of Set 3 | nguiu\n",
      "City not found. Skipping...\n",
      "Processing Record 39 of Set 3 | redmond\n",
      "Processing Record 40 of Set 3 | los llanos de aridane\n",
      "Processing Record 41 of Set 3 | sola\n",
      "Processing Record 42 of Set 3 | aiquile\n",
      "Processing Record 43 of Set 3 | ayan\n",
      "Processing Record 44 of Set 3 | tecpan\n",
      "Processing Record 45 of Set 3 | eyl\n",
      "Processing Record 46 of Set 3 | eirunepe\n",
      "Processing Record 47 of Set 3 | esperance\n",
      "Processing Record 48 of Set 3 | port alfred\n",
      "Processing Record 49 of Set 3 | copiapo\n",
      "Processing Record 0 of Set 4 | rocha\n",
      "Processing Record 1 of Set 4 | rzhyshchiv\n",
      "Processing Record 2 of Set 4 | banff\n",
      "Processing Record 3 of Set 4 | lata\n",
      "Processing Record 4 of Set 4 | aransas pass\n",
      "Processing Record 5 of Set 4 | marystown\n",
      "Processing Record 6 of Set 4 | galveston\n",
      "Processing Record 7 of Set 4 | fortuna\n",
      "Processing Record 8 of Set 4 | yellowknife\n",
      "Processing Record 9 of Set 4 | kirkenaer\n",
      "Processing Record 10 of Set 4 | jumla\n",
      "Processing Record 11 of Set 4 | grindavik\n",
      "Processing Record 12 of Set 4 | avarua\n",
      "Processing Record 13 of Set 4 | bambanglipuro\n",
      "Processing Record 14 of Set 4 | ostrovnoy\n",
      "Processing Record 15 of Set 4 | kurumkan\n",
      "Processing Record 16 of Set 4 | hilo\n",
      "Processing Record 17 of Set 4 | ponta do sol\n",
      "Processing Record 18 of Set 4 | alofi\n",
      "Processing Record 19 of Set 4 | jiayuguan\n",
      "Processing Record 20 of Set 4 | cap malheureux\n",
      "Processing Record 21 of Set 4 | nokha\n",
      "Processing Record 22 of Set 4 | chingirlau\n",
      "Processing Record 23 of Set 4 | bethel\n",
      "Processing Record 24 of Set 4 | kaitangata\n",
      "Processing Record 25 of Set 4 | ariquemes\n",
      "Processing Record 26 of Set 4 | putina\n",
      "Processing Record 27 of Set 4 | finale ligure\n",
      "Processing Record 28 of Set 4 | noumea\n",
      "Processing Record 29 of Set 4 | kavieng\n",
      "Processing Record 30 of Set 4 | hasaki\n",
      "Processing Record 31 of Set 4 | ambam\n",
      "Processing Record 32 of Set 4 | ilorin\n",
      "Processing Record 33 of Set 4 | thompson\n",
      "Processing Record 34 of Set 4 | bolshaya sosnova\n",
      "Processing Record 35 of Set 4 | dongsheng\n",
      "Processing Record 36 of Set 4 | ust-ordynskiy\n",
      "Processing Record 37 of Set 4 | cabo san lucas\n",
      "Processing Record 38 of Set 4 | epe\n",
      "Processing Record 39 of Set 4 | hvammstangi\n",
      "City not found. Skipping...\n",
      "Processing Record 40 of Set 4 | port lincoln\n",
      "Processing Record 41 of Set 4 | high level\n",
      "Processing Record 42 of Set 4 | samsun\n",
      "Processing Record 43 of Set 4 | jurm\n",
      "Processing Record 44 of Set 4 | arraial do cabo\n",
      "Processing Record 45 of Set 4 | barawe\n",
      "City not found. Skipping...\n",
      "Processing Record 46 of Set 4 | zomin\n",
      "Processing Record 47 of Set 4 | semenyih\n",
      "Processing Record 48 of Set 4 | yulara\n",
      "Processing Record 49 of Set 4 | luau\n",
      "Processing Record 0 of Set 5 | waddan\n",
      "Processing Record 1 of Set 5 | walvis bay\n",
      "Processing Record 2 of Set 5 | lorengau\n",
      "Processing Record 3 of Set 5 | washington\n",
      "Processing Record 4 of Set 5 | samusu\n",
      "City not found. Skipping...\n",
      "Processing Record 5 of Set 5 | saint-philippe\n",
      "Processing Record 6 of Set 5 | kargasok\n",
      "Processing Record 7 of Set 5 | bitkine\n",
      "Processing Record 8 of Set 5 | gambela\n",
      "Processing Record 9 of Set 5 | chimbarongo\n",
      "Processing Record 10 of Set 5 | miranda de ebro\n",
      "Processing Record 11 of Set 5 | bud\n",
      "Processing Record 12 of Set 5 | wahiawa\n",
      "Processing Record 13 of Set 5 | mombetsu\n",
      "Processing Record 14 of Set 5 | turayf\n",
      "Processing Record 15 of Set 5 | poum\n",
      "Processing Record 16 of Set 5 | saskylakh\n",
      "Processing Record 17 of Set 5 | taoudenni\n",
      "Processing Record 18 of Set 5 | hambantota\n",
      "Processing Record 19 of Set 5 | trairi\n",
      "Processing Record 20 of Set 5 | itarema\n",
      "Processing Record 21 of Set 5 | suntar\n",
      "Processing Record 22 of Set 5 | airai\n",
      "Processing Record 23 of Set 5 | morgan city\n",
      "Processing Record 24 of Set 5 | tungor\n",
      "Processing Record 25 of Set 5 | port augusta\n",
      "Processing Record 26 of Set 5 | kroya\n",
      "Processing Record 27 of Set 5 | yar-sale\n",
      "Processing Record 28 of Set 5 | tucuman\n",
      "Processing Record 29 of Set 5 | amderma\n",
      "City not found. Skipping...\n",
      "Processing Record 30 of Set 5 | hamilton\n",
      "Processing Record 31 of Set 5 | gijon\n",
      "Processing Record 32 of Set 5 | nemuro\n",
      "Processing Record 33 of Set 5 | luderitz\n",
      "Processing Record 34 of Set 5 | antalaha\n",
      "Processing Record 35 of Set 5 | sayyan\n",
      "Processing Record 36 of Set 5 | richards bay\n",
      "Processing Record 37 of Set 5 | bambous virieux\n",
      "Processing Record 38 of Set 5 | bamiantong\n",
      "Processing Record 39 of Set 5 | pacific grove\n",
      "Processing Record 40 of Set 5 | gornozavodsk\n",
      "Processing Record 41 of Set 5 | baykit\n",
      "Processing Record 42 of Set 5 | port shepstone\n",
      "Processing Record 43 of Set 5 | cortez\n",
      "Processing Record 44 of Set 5 | tura\n",
      "Processing Record 45 of Set 5 | banda aceh\n",
      "Processing Record 46 of Set 5 | mariestad\n",
      "Processing Record 47 of Set 5 | rawson\n",
      "Processing Record 48 of Set 5 | yeletskiy\n",
      "City not found. Skipping...\n",
      "Processing Record 49 of Set 5 | chipinge\n",
      "Processing Record 0 of Set 6 | nanortalik\n",
      "Processing Record 1 of Set 6 | belushya guba\n",
      "City not found. Skipping...\n",
      "Processing Record 2 of Set 6 | tabiauea\n",
      "City not found. Skipping...\n",
      "Processing Record 3 of Set 6 | shiyan\n",
      "Processing Record 4 of Set 6 | bangkal\n",
      "Processing Record 5 of Set 6 | rapar\n",
      "Processing Record 6 of Set 6 | trincomalee\n",
      "Processing Record 7 of Set 6 | klaksvik\n",
      "Processing Record 8 of Set 6 | mabaruma\n",
      "Processing Record 9 of Set 6 | sao felix do xingu\n",
      "Processing Record 10 of Set 6 | santa vitoria do palmar\n",
      "Processing Record 11 of Set 6 | lazaro cardenas\n",
      "Processing Record 12 of Set 6 | finnsnes\n",
      "Processing Record 13 of Set 6 | moron\n",
      "Processing Record 14 of Set 6 | rockland\n",
      "Processing Record 15 of Set 6 | petropavlovsk-kamchatskiy\n",
      "Processing Record 16 of Set 6 | kushima\n",
      "Processing Record 17 of Set 6 | shkoder\n",
      "Processing Record 18 of Set 6 | pisco\n",
      "Processing Record 19 of Set 6 | pasni\n",
      "Processing Record 20 of Set 6 | okha\n",
      "Processing Record 21 of Set 6 | mabamba\n",
      "Processing Record 22 of Set 6 | port hardy\n",
      "Processing Record 23 of Set 6 | faya\n",
      "Processing Record 24 of Set 6 | mnogovershinnyy\n",
      "Processing Record 25 of Set 6 | ambanja\n",
      "Processing Record 26 of Set 6 | kaduqli\n",
      "Processing Record 27 of Set 6 | sabha\n",
      "Processing Record 28 of Set 6 | svetlaya\n",
      "Processing Record 29 of Set 6 | goderich\n",
      "Processing Record 30 of Set 6 | saint-augustin\n",
      "Processing Record 31 of Set 6 | christchurch\n",
      "Processing Record 32 of Set 6 | visnes\n",
      "Processing Record 33 of Set 6 | geraldton\n",
      "Processing Record 34 of Set 6 | zhigansk\n",
      "Processing Record 35 of Set 6 | tapaua\n",
      "City not found. Skipping...\n",
      "Processing Record 36 of Set 6 | mao\n",
      "Processing Record 37 of Set 6 | canitas\n",
      "City not found. Skipping...\n",
      "Processing Record 38 of Set 6 | north myrtle beach\n",
      "Processing Record 39 of Set 6 | abashiri\n",
      "Processing Record 40 of Set 6 | visby\n",
      "Processing Record 41 of Set 6 | huangpu\n",
      "Processing Record 42 of Set 6 | prince rupert\n",
      "Processing Record 43 of Set 6 | sabla\n",
      "Processing Record 44 of Set 6 | kalabo\n",
      "Processing Record 45 of Set 6 | luanda\n",
      "Processing Record 46 of Set 6 | engels\n",
      "Processing Record 47 of Set 6 | sistranda\n",
      "Processing Record 48 of Set 6 | mareeba\n",
      "Processing Record 49 of Set 6 | bengkulu\n",
      "Processing Record 0 of Set 7 | gafargaon\n",
      "Processing Record 1 of Set 7 | chokurdakh\n",
      "Processing Record 2 of Set 7 | menongue\n",
      "Processing Record 3 of Set 7 | vaitupu\n",
      "City not found. Skipping...\n",
      "Processing Record 4 of Set 7 | requena\n",
      "Processing Record 5 of Set 7 | samarai\n",
      "Processing Record 6 of Set 7 | kayerkan\n",
      "Processing Record 7 of Set 7 | mitsamiouli\n",
      "Processing Record 8 of Set 7 | malynivka\n",
      "Processing Record 9 of Set 7 | churachandpur\n",
      "Processing Record 10 of Set 7 | balykshi\n",
      "Processing Record 11 of Set 7 | ivnya\n",
      "Processing Record 12 of Set 7 | san policarpo\n",
      "Processing Record 13 of Set 7 | tabas\n",
      "Processing Record 14 of Set 7 | ketchikan\n",
      "Processing Record 15 of Set 7 | tuatapere\n",
      "Processing Record 16 of Set 7 | belyy yar\n",
      "Processing Record 17 of Set 7 | zurrieq\n",
      "Processing Record 18 of Set 7 | cidreira\n",
      "Processing Record 19 of Set 7 | scottsburgh\n",
      "City not found. Skipping...\n",
      "Processing Record 20 of Set 7 | iqaluit\n",
      "Processing Record 21 of Set 7 | balabac\n",
      "Processing Record 22 of Set 7 | atlantic city\n",
      "Processing Record 23 of Set 7 | tilichiki\n",
      "Processing Record 24 of Set 7 | udachnyy\n",
      "Processing Record 25 of Set 7 | bentiu\n",
      "Processing Record 26 of Set 7 | coahuayana\n",
      "Processing Record 27 of Set 7 | nim ka thana\n",
      "City not found. Skipping...\n",
      "Processing Record 28 of Set 7 | englewood\n",
      "Processing Record 29 of Set 7 | port hedland\n",
      "Processing Record 30 of Set 7 | port blair\n",
      "Processing Record 31 of Set 7 | damaturu\n",
      "Processing Record 32 of Set 7 | tonantins\n",
      "Processing Record 33 of Set 7 | sinnamary\n",
      "Processing Record 34 of Set 7 | mys shmidta\n",
      "City not found. Skipping...\n",
      "Processing Record 35 of Set 7 | sitka\n",
      "Processing Record 36 of Set 7 | ornskoldsvik\n",
      "Processing Record 37 of Set 7 | roma\n",
      "Processing Record 38 of Set 7 | marawi\n",
      "Processing Record 39 of Set 7 | camacha\n",
      "Processing Record 40 of Set 7 | ancud\n",
      "Processing Record 41 of Set 7 | san juan\n",
      "Processing Record 42 of Set 7 | kalmunai\n",
      "Processing Record 43 of Set 7 | maragogi\n",
      "Processing Record 44 of Set 7 | lantawan\n",
      "Processing Record 45 of Set 7 | mergui\n",
      "City not found. Skipping...\n",
      "Processing Record 46 of Set 7 | amparai\n",
      "City not found. Skipping...\n",
      "Processing Record 47 of Set 7 | chitose\n",
      "Processing Record 48 of Set 7 | palmer\n",
      "Processing Record 49 of Set 7 | saint simons\n",
      "Processing Record 0 of Set 8 | yeppoon\n",
      "Processing Record 1 of Set 8 | matola\n",
      "Processing Record 2 of Set 8 | mazamet\n",
      "Processing Record 3 of Set 8 | bonavista\n",
      "Processing Record 4 of Set 8 | homer\n",
      "Processing Record 5 of Set 8 | grande riviere du nord\n",
      "Processing Record 6 of Set 8 | aguimes\n",
      "Processing Record 7 of Set 8 | manggar\n",
      "Processing Record 8 of Set 8 | cozumel\n",
      "Processing Record 9 of Set 8 | college\n",
      "Processing Record 10 of Set 8 | mattru\n",
      "Processing Record 11 of Set 8 | khonuu\n",
      "City not found. Skipping...\n",
      "Processing Record 12 of Set 8 | nizhneyansk\n",
      "City not found. Skipping...\n",
      "Processing Record 13 of Set 8 | chapais\n",
      "Processing Record 14 of Set 8 | japura\n",
      "Processing Record 15 of Set 8 | jennings\n",
      "Processing Record 16 of Set 8 | constitucion\n",
      "Processing Record 17 of Set 8 | ensley\n",
      "Processing Record 18 of Set 8 | takoradi\n",
      "Processing Record 19 of Set 8 | vilyuysk\n",
      "Processing Record 20 of Set 8 | longyearbyen\n",
      "Processing Record 21 of Set 8 | tadine\n",
      "Processing Record 22 of Set 8 | bereda\n",
      "Processing Record 23 of Set 8 | almaznyy\n",
      "Processing Record 24 of Set 8 | sungaipenuh\n",
      "Processing Record 25 of Set 8 | comodoro rivadavia\n",
      "Processing Record 26 of Set 8 | cimitarra\n",
      "Processing Record 27 of Set 8 | saint anthony\n",
      "Processing Record 28 of Set 8 | ilulissat\n",
      "Processing Record 29 of Set 8 | ternate\n",
      "Processing Record 30 of Set 8 | nsanje\n",
      "Processing Record 31 of Set 8 | mount isa\n",
      "Processing Record 32 of Set 8 | naze\n",
      "Processing Record 33 of Set 8 | melilla\n",
      "Processing Record 34 of Set 8 | bolungarvik\n",
      "City not found. Skipping...\n",
      "Processing Record 35 of Set 8 | coquimbo\n",
      "Processing Record 36 of Set 8 | puerto del rosario\n",
      "Processing Record 37 of Set 8 | kostino\n",
      "Processing Record 38 of Set 8 | tarija\n",
      "Processing Record 39 of Set 8 | san quintin\n",
      "Processing Record 40 of Set 8 | touros\n",
      "Processing Record 41 of Set 8 | kavaratti\n",
      "Processing Record 42 of Set 8 | san rafael\n",
      "Processing Record 43 of Set 8 | cedar city\n",
      "Processing Record 44 of Set 8 | sioux lookout\n",
      "Processing Record 45 of Set 8 | attawapiskat\n",
      "City not found. Skipping...\n",
      "Processing Record 46 of Set 8 | shigony\n",
      "Processing Record 47 of Set 8 | constantine\n",
      "Processing Record 48 of Set 8 | kazalinsk\n",
      "City not found. Skipping...\n",
      "Processing Record 49 of Set 8 | batagay\n",
      "Processing Record 0 of Set 9 | tonekabon\n",
      "Processing Record 1 of Set 9 | faanui\n",
      "Processing Record 2 of Set 9 | shenjiamen\n",
      "Processing Record 3 of Set 9 | karabulak\n",
      "Processing Record 4 of Set 9 | okhotsk\n",
      "Processing Record 5 of Set 9 | saldanha\n",
      "Processing Record 6 of Set 9 | loukhi\n",
      "Processing Record 7 of Set 9 | saint-joseph\n",
      "Processing Record 8 of Set 9 | bojaya\n",
      "City not found. Skipping...\n",
      "Processing Record 9 of Set 9 | ust-nera\n",
      "Processing Record 10 of Set 9 | kaspiysk\n",
      "Processing Record 11 of Set 9 | araouane\n",
      "Processing Record 12 of Set 9 | kamenskoye\n",
      "City not found. Skipping...\n",
      "Processing Record 13 of Set 9 | ignacio zaragoza\n",
      "Processing Record 14 of Set 9 | tevriz\n",
      "Processing Record 15 of Set 9 | palauig\n",
      "Processing Record 16 of Set 9 | karkaralinsk\n",
      "City not found. Skipping...\n",
      "Processing Record 17 of Set 9 | council bluffs\n",
      "Processing Record 18 of Set 9 | bargal\n",
      "City not found. Skipping...\n",
      "Processing Record 19 of Set 9 | makakilo city\n",
      "Processing Record 20 of Set 9 | ixtapa\n",
      "Processing Record 21 of Set 9 | yakima\n",
      "Processing Record 22 of Set 9 | kaiyuan\n",
      "Processing Record 23 of Set 9 | lagoa\n",
      "Processing Record 24 of Set 9 | jacareacanga\n",
      "Processing Record 25 of Set 9 | umm lajj\n",
      "Processing Record 26 of Set 9 | te anau\n",
      "Processing Record 27 of Set 9 | hobbs\n",
      "Processing Record 28 of Set 9 | havelock\n",
      "Processing Record 29 of Set 9 | belmonte\n",
      "Processing Record 30 of Set 9 | ila\n",
      "Processing Record 31 of Set 9 | davila\n",
      "Processing Record 32 of Set 9 | greensburg\n",
      "Processing Record 33 of Set 9 | luebo\n",
      "Processing Record 34 of Set 9 | kutum\n",
      "Processing Record 35 of Set 9 | vestmannaeyjar\n",
      "Processing Record 36 of Set 9 | neka\n",
      "Processing Record 37 of Set 9 | guanica\n",
      "Processing Record 38 of Set 9 | vostok\n",
      "Processing Record 39 of Set 9 | mayo\n",
      "Processing Record 40 of Set 9 | salalah\n",
      "Processing Record 41 of Set 9 | norman wells\n",
      "Processing Record 42 of Set 9 | odweyne\n",
      "Processing Record 43 of Set 9 | terrak\n",
      "Processing Record 44 of Set 9 | iki-burul\n",
      "Processing Record 45 of Set 9 | katherine\n",
      "Processing Record 46 of Set 9 | svebolle\n",
      "Processing Record 47 of Set 9 | linjiang\n",
      "Processing Record 48 of Set 9 | abu kamal\n",
      "Processing Record 49 of Set 9 | mbandaka\n",
      "Processing Record 0 of Set 10 | anadyr\n",
      "Processing Record 1 of Set 10 | aasiaat\n",
      "Processing Record 2 of Set 10 | bamako\n",
      "Processing Record 3 of Set 10 | khasan\n",
      "Processing Record 4 of Set 10 | warqla\n",
      "City not found. Skipping...\n",
      "Processing Record 5 of Set 10 | bandarbeyla\n",
      "Processing Record 6 of Set 10 | quatre cocos\n",
      "Processing Record 7 of Set 10 | carepa\n",
      "Processing Record 8 of Set 10 | sawtell\n",
      "Processing Record 9 of Set 10 | hualmay\n",
      "Processing Record 10 of Set 10 | peniche\n",
      "Processing Record 11 of Set 10 | kamien pomorski\n",
      "Processing Record 12 of Set 10 | zhongshu\n",
      "Processing Record 13 of Set 10 | drayton valley\n",
      "Processing Record 14 of Set 10 | quebrangulo\n",
      "Processing Record 15 of Set 10 | kano\n",
      "Processing Record 16 of Set 10 | sao filipe\n",
      "Processing Record 17 of Set 10 | kotelnikovo\n",
      "Processing Record 18 of Set 10 | otse\n",
      "Processing Record 19 of Set 10 | shimoda\n",
      "Processing Record 20 of Set 10 | yinchuan\n",
      "Processing Record 21 of Set 10 | russell\n",
      "Processing Record 22 of Set 10 | pirai do sul\n",
      "Processing Record 23 of Set 10 | sao joao da barra\n",
      "Processing Record 24 of Set 10 | coihaique\n",
      "Processing Record 25 of Set 10 | bowen\n",
      "Processing Record 26 of Set 10 | inhambane\n",
      "Processing Record 27 of Set 10 | three hills\n",
      "Processing Record 28 of Set 10 | pachino\n",
      "Processing Record 29 of Set 10 | jacksonville\n",
      "Processing Record 30 of Set 10 | teguldet\n",
      "Processing Record 31 of Set 10 | atar\n",
      "Processing Record 32 of Set 10 | grand gaube\n",
      "Processing Record 33 of Set 10 | inuvik\n",
      "Processing Record 34 of Set 10 | balkanabat\n",
      "Processing Record 35 of Set 10 | lerwick\n",
      "Processing Record 36 of Set 10 | bajil\n",
      "Processing Record 37 of Set 10 | iquitos\n",
      "Processing Record 38 of Set 10 | dong hoi\n",
      "Processing Record 39 of Set 10 | marsa matruh\n",
      "Processing Record 40 of Set 10 | palabuhanratu\n",
      "City not found. Skipping...\n",
      "Processing Record 41 of Set 10 | bintulu\n",
      "Processing Record 42 of Set 10 | nabire\n",
      "Processing Record 43 of Set 10 | ponerihouen\n",
      "Processing Record 44 of Set 10 | magadan\n",
      "Processing Record 45 of Set 10 | agadez\n",
      "Processing Record 46 of Set 10 | aklavik\n",
      "Processing Record 47 of Set 10 | puerto escondido\n",
      "Processing Record 48 of Set 10 | watsa\n",
      "Processing Record 49 of Set 10 | honiara\n",
      "Processing Record 0 of Set 11 | gardone val trompia\n",
      "Processing Record 1 of Set 11 | taltal\n",
      "Processing Record 2 of Set 11 | boa vista\n",
      "Processing Record 3 of Set 11 | souillac\n",
      "Processing Record 4 of Set 11 | kungurtug\n",
      "Processing Record 5 of Set 11 | charters towers\n",
      "Processing Record 6 of Set 11 | nalut\n",
      "Processing Record 7 of Set 11 | milingimbi\n",
      "City not found. Skipping...\n",
      "Processing Record 8 of Set 11 | vicosa\n",
      "Processing Record 9 of Set 11 | asilah\n",
      "Processing Record 10 of Set 11 | zyryanka\n",
      "Processing Record 11 of Set 11 | sambava\n",
      "Processing Record 12 of Set 11 | awbari\n",
      "Processing Record 13 of Set 11 | barguzin\n",
      "Processing Record 14 of Set 11 | salamanca\n",
      "Processing Record 15 of Set 11 | roebourne\n",
      "Processing Record 16 of Set 11 | yerbogachen\n",
      "Processing Record 17 of Set 11 | broken hill\n",
      "Processing Record 18 of Set 11 | viedma\n",
      "Processing Record 19 of Set 11 | goundam\n",
      "Processing Record 20 of Set 11 | barauna\n",
      "Processing Record 21 of Set 11 | aquiraz\n",
      "Processing Record 22 of Set 11 | port keats\n",
      "Processing Record 23 of Set 11 | cheuskiny\n",
      "City not found. Skipping...\n",
      "Processing Record 24 of Set 11 | cabinda\n",
      "Processing Record 25 of Set 11 | sinkat\n",
      "City not found. Skipping...\n",
      "Processing Record 26 of Set 11 | abingdon\n",
      "Processing Record 27 of Set 11 | plettenberg bay\n",
      "Processing Record 28 of Set 11 | burica\n",
      "City not found. Skipping...\n",
      "Processing Record 29 of Set 11 | kailua\n",
      "Processing Record 30 of Set 11 | thinadhoo\n",
      "Processing Record 31 of Set 11 | matamoros\n",
      "Processing Record 32 of Set 11 | ipixuna\n",
      "Processing Record 33 of Set 11 | greenville\n",
      "Processing Record 34 of Set 11 | sao paulo de olivenca\n",
      "Processing Record 35 of Set 11 | manokwari\n",
      "Processing Record 36 of Set 11 | krasnoselkup\n",
      "Processing Record 37 of Set 11 | sharan\n",
      "Processing Record 38 of Set 11 | aksu\n",
      "Processing Record 39 of Set 11 | volokolamsk\n",
      "Processing Record 40 of Set 11 | cayenne\n",
      "Processing Record 41 of Set 11 | hunza\n",
      "City not found. Skipping...\n",
      "Processing Record 42 of Set 11 | maceio\n",
      "Processing Record 43 of Set 11 | rungata\n",
      "City not found. Skipping...\n",
      "Processing Record 44 of Set 11 | myitkyina\n",
      "Processing Record 45 of Set 11 | porbandar\n",
      "Processing Record 46 of Set 11 | pravokumskoye\n",
      "Processing Record 47 of Set 11 | tsiroanomandidy\n",
      "Processing Record 48 of Set 11 | bilibino\n",
      "Processing Record 49 of Set 11 | auki\n",
      "Processing Record 0 of Set 12 | ponnani\n",
      "Processing Record 1 of Set 12 | karaul\n",
      "City not found. Skipping...\n",
      "Processing Record 2 of Set 12 | henties bay\n",
      "Processing Record 3 of Set 12 | pangody\n",
      "Processing Record 4 of Set 12 | gorontalo\n",
      "Processing Record 5 of Set 12 | saint-francois\n",
      "Processing Record 6 of Set 12 | wakkanai\n",
      "Processing Record 7 of Set 12 | nantucket\n",
      "Processing Record 8 of Set 12 | orshanka\n",
      "Processing Record 9 of Set 12 | wangdiphodrang\n",
      "City not found. Skipping...\n",
      "Processing Record 10 of Set 12 | kyshtovka\n",
      "Processing Record 11 of Set 12 | fare\n",
      "Processing Record 12 of Set 12 | aksarka\n",
      "Processing Record 13 of Set 12 | kasli\n",
      "Processing Record 14 of Set 12 | ust-kuyga\n",
      "Processing Record 15 of Set 12 | mogadishu\n",
      "Processing Record 16 of Set 12 | turukhansk\n",
      "Processing Record 17 of Set 12 | mwinilunga\n",
      "Processing Record 18 of Set 12 | chimbote\n",
      "Processing Record 19 of Set 12 | coroata\n",
      "Processing Record 20 of Set 12 | goure\n",
      "Processing Record 21 of Set 12 | nikel\n",
      "Processing Record 22 of Set 12 | ejido\n",
      "Processing Record 23 of Set 12 | buzmeyin\n",
      "Processing Record 24 of Set 12 | gedzhukh\n",
      "Processing Record 25 of Set 12 | moerai\n",
      "Processing Record 26 of Set 12 | lensk\n",
      "Processing Record 27 of Set 12 | san agustin acasaguastlan\n",
      "Processing Record 28 of Set 12 | dongzhen\n",
      "Processing Record 29 of Set 12 | lichinga\n",
      "Processing Record 30 of Set 12 | half moon bay\n",
      "Processing Record 31 of Set 12 | umzimvubu\n",
      "City not found. Skipping...\n",
      "Processing Record 32 of Set 12 | ngoro\n",
      "Processing Record 33 of Set 12 | nuuk\n",
      "Processing Record 34 of Set 12 | flin flon\n",
      "Processing Record 35 of Set 12 | montgomery\n",
      "Processing Record 36 of Set 12 | de aar\n",
      "Processing Record 37 of Set 12 | hirara\n",
      "Processing Record 38 of Set 12 | texarkana\n",
      "Processing Record 39 of Set 12 | ibra\n",
      "Processing Record 40 of Set 12 | isiro\n",
      "Processing Record 41 of Set 12 | doctor juan leon mallorquin\n",
      "Processing Record 42 of Set 12 | tornio\n",
      "Processing Record 43 of Set 12 | west wendover\n",
      "Processing Record 44 of Set 12 | boundiali\n",
      "Processing Record 45 of Set 12 | tambopata\n",
      "Processing Record 46 of Set 12 | bardiyah\n",
      "Processing Record 47 of Set 12 | gwadar\n",
      "Processing Record 48 of Set 12 | resistencia\n",
      "Processing Record 49 of Set 12 | nyurba\n",
      "Processing Record 0 of Set 13 | cantanhede\n",
      "Processing Record 1 of Set 13 | denizli\n",
      "Processing Record 2 of Set 13 | sorong\n",
      "Processing Record 3 of Set 13 | katastarion\n",
      "Processing Record 4 of Set 13 | srednekolymsk\n",
      "Processing Record 5 of Set 13 | atbasar\n",
      "Processing Record 6 of Set 13 | ekibastuz\n",
      "Processing Record 7 of Set 13 | halalo\n",
      "City not found. Skipping...\n",
      "Processing Record 8 of Set 13 | terney\n",
      "Processing Record 9 of Set 13 | beringovskiy\n",
      "Processing Record 10 of Set 13 | awjilah\n",
      "Processing Record 11 of Set 13 | mayskiy\n",
      "Processing Record 12 of Set 13 | zalantun\n",
      "Processing Record 13 of Set 13 | altea\n",
      "Processing Record 14 of Set 13 | flinders\n",
      "Processing Record 15 of Set 13 | wote\n",
      "Processing Record 16 of Set 13 | laguna\n",
      "Processing Record 17 of Set 13 | kibala\n",
      "Processing Record 18 of Set 13 | hvide sande\n",
      "Processing Record 19 of Set 13 | mana\n",
      "Processing Record 20 of Set 13 | fairbanks\n",
      "Processing Record 21 of Set 13 | khunti\n",
      "Data retrieval is complete.\n"
     ]
    }
   ],
   "source": [
    "# create url for requests\n",
    "units=\"units=imperial\"\n",
    "api= f\"&APPID={w_api}\"\n",
    "url = f\"https://api.openweathermap.org/data/2.5/weather?{units}{api}\"\n",
    "\n",
    "# create list for data retreived from openweathermap\n",
    "city_data =[]\n",
    "\n",
    "\n",
    "# show data retrieval\n",
    "print(\"Beginning Data Retrieval \\n\"     \n",
    "    \"-----------------------------\")\n",
    "set_count =1\n",
    "record_count = 1\n",
    "\n",
    "for i, city in enumerate(cities):\n",
    "\n",
    "    # Group cities in sets of 50 for logging purposes\n",
    "    if (i % 50 == 0 and i >= 50):\n",
    "        set_count += 1\n",
    "        record_count = 0\n",
    "\n",
    "    # Create endpoint URL with each city\n",
    "    city_url = url + \"&q=\" + city\n",
    "    \n",
    "    # Log the url, record, and set numbers\n",
    "    print(\"Processing Record %s of Set %s | %s\" % (record_count, set_count, city))\n",
    "\n",
    "    # Add 1 to the record count\n",
    "    record_count += 1\n",
    "    \n",
    "    # try statement to skip cties that don't exist in data\n",
    "    try:\n",
    "        city_weather = requests.get(city_url).json()\n",
    "        \n",
    "    # Parse out the max temp, humidity, and cloudiness\n",
    "        city_lat = city_weather[\"coord\"][\"lat\"]\n",
    "        city_lng = city_weather[\"coord\"][\"lon\"]\n",
    "        city_max_temp = city_weather[\"main\"][\"temp_max\"]\n",
    "        city_humidity = city_weather[\"main\"][\"humidity\"]\n",
    "        city_clouds = city_weather[\"clouds\"][\"all\"]\n",
    "        city_wind = city_weather[\"wind\"][\"speed\"]\n",
    "        city_country = city_weather[\"sys\"][\"country\"]\n",
    "        city_date = city_weather[\"dt\"]\n",
    "        \n",
    "        # add info to list\n",
    "        city_data.append({\"City\": city, \n",
    "                            \"Lat\": city_lat, \n",
    "                            \"Lng\": city_lng, \n",
    "                            \"Max Temp\": city_max_temp,\n",
    "                            \"Humidity\": city_humidity,\n",
    "                            \"Cloudiness\": city_clouds,\n",
    "                            \"Wind Speed\": city_wind,\n",
    "                            \"Country\": city_country,\n",
    "                            \"Date\": city_date})\n",
    "\n",
    "    except:\n",
    "        print(\"City not found. Skipping...\")\n",
    "        pass\n",
    "print(\"Data retrieval is complete.\")\n"
   ]
  },
  {
   "cell_type": "markdown",
   "metadata": {},
   "source": [
    "### Convert Raw Data to DataFrame\n",
    "* Export the city data into a .csv.\n",
    "* Display the DataFrame"
   ]
  },
  {
   "cell_type": "code",
   "execution_count": 5,
   "metadata": {},
   "outputs": [
    {
     "data": {
      "text/html": [
       "<div>\n",
       "<style scoped>\n",
       "    .dataframe tbody tr th:only-of-type {\n",
       "        vertical-align: middle;\n",
       "    }\n",
       "\n",
       "    .dataframe tbody tr th {\n",
       "        vertical-align: top;\n",
       "    }\n",
       "\n",
       "    .dataframe thead th {\n",
       "        text-align: right;\n",
       "    }\n",
       "</style>\n",
       "<table border=\"1\" class=\"dataframe\">\n",
       "  <thead>\n",
       "    <tr style=\"text-align: right;\">\n",
       "      <th></th>\n",
       "      <th>City</th>\n",
       "      <th>Lat</th>\n",
       "      <th>Lng</th>\n",
       "      <th>Max Temp</th>\n",
       "      <th>Humidity</th>\n",
       "      <th>Cloudiness</th>\n",
       "      <th>Wind Speed</th>\n",
       "      <th>Country</th>\n",
       "      <th>Date</th>\n",
       "    </tr>\n",
       "  </thead>\n",
       "  <tbody>\n",
       "    <tr>\n",
       "      <th>0</th>\n",
       "      <td>mar del plata</td>\n",
       "      <td>-38.0023</td>\n",
       "      <td>-57.5575</td>\n",
       "      <td>48.09</td>\n",
       "      <td>77</td>\n",
       "      <td>65</td>\n",
       "      <td>11.01</td>\n",
       "      <td>AR</td>\n",
       "      <td>1655194151</td>\n",
       "    </tr>\n",
       "    <tr>\n",
       "      <th>1</th>\n",
       "      <td>vaini</td>\n",
       "      <td>-21.2000</td>\n",
       "      <td>-175.2000</td>\n",
       "      <td>71.76</td>\n",
       "      <td>94</td>\n",
       "      <td>20</td>\n",
       "      <td>3.44</td>\n",
       "      <td>TO</td>\n",
       "      <td>1655194377</td>\n",
       "    </tr>\n",
       "    <tr>\n",
       "      <th>2</th>\n",
       "      <td>praia da vitoria</td>\n",
       "      <td>38.7333</td>\n",
       "      <td>-27.0667</td>\n",
       "      <td>60.76</td>\n",
       "      <td>86</td>\n",
       "      <td>100</td>\n",
       "      <td>3.29</td>\n",
       "      <td>PT</td>\n",
       "      <td>1655194378</td>\n",
       "    </tr>\n",
       "    <tr>\n",
       "      <th>3</th>\n",
       "      <td>atuona</td>\n",
       "      <td>-9.8000</td>\n",
       "      <td>-139.0333</td>\n",
       "      <td>76.62</td>\n",
       "      <td>79</td>\n",
       "      <td>57</td>\n",
       "      <td>19.55</td>\n",
       "      <td>PF</td>\n",
       "      <td>1655194379</td>\n",
       "    </tr>\n",
       "    <tr>\n",
       "      <th>4</th>\n",
       "      <td>hithadhoo</td>\n",
       "      <td>-0.6000</td>\n",
       "      <td>73.0833</td>\n",
       "      <td>83.75</td>\n",
       "      <td>69</td>\n",
       "      <td>62</td>\n",
       "      <td>6.55</td>\n",
       "      <td>MV</td>\n",
       "      <td>1655194381</td>\n",
       "    </tr>\n",
       "    <tr>\n",
       "      <th>5</th>\n",
       "      <td>punta arenas</td>\n",
       "      <td>-53.1500</td>\n",
       "      <td>-70.9167</td>\n",
       "      <td>33.91</td>\n",
       "      <td>93</td>\n",
       "      <td>0</td>\n",
       "      <td>8.05</td>\n",
       "      <td>CL</td>\n",
       "      <td>1655194382</td>\n",
       "    </tr>\n",
       "    <tr>\n",
       "      <th>6</th>\n",
       "      <td>grand forks</td>\n",
       "      <td>47.9417</td>\n",
       "      <td>-97.4337</td>\n",
       "      <td>71.33</td>\n",
       "      <td>94</td>\n",
       "      <td>75</td>\n",
       "      <td>14.97</td>\n",
       "      <td>US</td>\n",
       "      <td>1655194088</td>\n",
       "    </tr>\n",
       "    <tr>\n",
       "      <th>7</th>\n",
       "      <td>qalyub</td>\n",
       "      <td>30.1792</td>\n",
       "      <td>31.2056</td>\n",
       "      <td>84.99</td>\n",
       "      <td>42</td>\n",
       "      <td>0</td>\n",
       "      <td>7.78</td>\n",
       "      <td>EG</td>\n",
       "      <td>1655194385</td>\n",
       "    </tr>\n",
       "    <tr>\n",
       "      <th>8</th>\n",
       "      <td>kapaa</td>\n",
       "      <td>22.0752</td>\n",
       "      <td>-159.3190</td>\n",
       "      <td>75.18</td>\n",
       "      <td>86</td>\n",
       "      <td>20</td>\n",
       "      <td>16.11</td>\n",
       "      <td>US</td>\n",
       "      <td>1655194387</td>\n",
       "    </tr>\n",
       "    <tr>\n",
       "      <th>9</th>\n",
       "      <td>maumere</td>\n",
       "      <td>-8.6199</td>\n",
       "      <td>122.2111</td>\n",
       "      <td>82.96</td>\n",
       "      <td>68</td>\n",
       "      <td>61</td>\n",
       "      <td>6.33</td>\n",
       "      <td>ID</td>\n",
       "      <td>1655194388</td>\n",
       "    </tr>\n",
       "  </tbody>\n",
       "</table>\n",
       "</div>"
      ],
      "text/plain": [
       "               City      Lat       Lng  Max Temp  Humidity  Cloudiness  \\\n",
       "0     mar del plata -38.0023  -57.5575     48.09        77          65   \n",
       "1             vaini -21.2000 -175.2000     71.76        94          20   \n",
       "2  praia da vitoria  38.7333  -27.0667     60.76        86         100   \n",
       "3            atuona  -9.8000 -139.0333     76.62        79          57   \n",
       "4         hithadhoo  -0.6000   73.0833     83.75        69          62   \n",
       "5      punta arenas -53.1500  -70.9167     33.91        93           0   \n",
       "6       grand forks  47.9417  -97.4337     71.33        94          75   \n",
       "7            qalyub  30.1792   31.2056     84.99        42           0   \n",
       "8             kapaa  22.0752 -159.3190     75.18        86          20   \n",
       "9           maumere  -8.6199  122.2111     82.96        68          61   \n",
       "\n",
       "   Wind Speed Country        Date  \n",
       "0       11.01      AR  1655194151  \n",
       "1        3.44      TO  1655194377  \n",
       "2        3.29      PT  1655194378  \n",
       "3       19.55      PF  1655194379  \n",
       "4        6.55      MV  1655194381  \n",
       "5        8.05      CL  1655194382  \n",
       "6       14.97      US  1655194088  \n",
       "7        7.78      EG  1655194385  \n",
       "8       16.11      US  1655194387  \n",
       "9        6.33      ID  1655194388  "
      ]
     },
     "execution_count": 5,
     "metadata": {},
     "output_type": "execute_result"
    }
   ],
   "source": [
    "\n",
    "# create data frame from requests\n",
    "city_data_df= pd.DataFrame(city_data)\n",
    "\n",
    "\n",
    "\n",
    "# Exports DataFrame as a csv file\n",
    "city_data_df.to_csv(\"../output_data/city_data_df.csv\",\n",
    "                    encoding=\"utf-8\", header=True)\n",
    "\n",
    "city_data_df.head(10)"
   ]
  },
  {
   "cell_type": "code",
   "execution_count": 6,
   "metadata": {},
   "outputs": [
    {
     "data": {
      "text/plain": [
       "count    573.000000\n",
       "mean      66.034904\n",
       "std       23.537030\n",
       "min        1.000000\n",
       "25%       49.000000\n",
       "50%       71.000000\n",
       "75%       85.000000\n",
       "max      100.000000\n",
       "Name: Humidity, dtype: float64"
      ]
     },
     "execution_count": 6,
     "metadata": {},
     "output_type": "execute_result"
    }
   ],
   "source": [
    "# describe Humidty for count check and max value\n",
    "city_data_df[\"Humidity\"].describe()"
   ]
  },
  {
   "cell_type": "markdown",
   "metadata": {},
   "source": [
    "## Inspect the data and remove the cities where the humidity > 100%.\n",
    "----\n",
    "Skip this step if there are no cities that have humidity > 100%. "
   ]
  },
  {
   "cell_type": "code",
   "execution_count": 7,
   "metadata": {},
   "outputs": [],
   "source": [
    "#no cities over 100% humidity"
   ]
  },
  {
   "cell_type": "code",
   "execution_count": 8,
   "metadata": {},
   "outputs": [
    {
     "data": {
      "image/png": "[encoded data removed]",
      "text/plain": [
       "<Figure size 432x288 with 1 Axes>"
      ]
     },
     "metadata": {
      "needs_background": "light"
     },
     "output_type": "display_data"
    },
    {
     "data": {
      "text/plain": [
       "573"
      ]
     },
     "execution_count": 8,
     "metadata": {},
     "output_type": "execute_result"
    }
   ],
   "source": [
    "# Visual check of data for outliers\n",
    "humidity_df = pd.read_csv(\"../output_data/city_data_df.csv\")\n",
    "humidity =humidity_df[\"Humidity\"]\n",
    "\n",
    "fig1, ax1 = plt.subplots()\n",
    "ax1.set_title('City Humidity %')\n",
    "ax1.set_ylabel(\"Humidity\")\n",
    "ax1.boxplot(humidity)\n",
    "plt.show()\n",
    "# count of values for comparision in next step\n",
    "len(humidity_df)\n"
   ]
  },
  {
   "cell_type": "code",
   "execution_count": 9,
   "metadata": {},
   "outputs": [
    {
     "data": {
      "text/plain": [
       "478"
      ]
     },
     "execution_count": 9,
     "metadata": {},
     "output_type": "execute_result"
    }
   ],
   "source": [
    "# Make a new DataFrame equal to the city data to drop all humidity outliers by index.\n",
    "# Passing \"inplace=False\" will make a copy of the city_data DataFrame, which we call \"clean_city_data\".\n",
    "clean_city_data = city_data_df.drop(humidity_df[\"Humidity\"], inplace=False)\n",
    "\n",
    "# count of values for comparision\n",
    "len (clean_city_data)\n",
    "\n"
   ]
  },
  {
   "cell_type": "markdown",
   "metadata": {},
   "source": [
    "## Plotting the Data\n",
    "* Use proper labeling of the plots using plot titles (including date of analysis) and axes labels.\n",
    "* Save the plotted figures as .pngs."
   ]
  },
  {
   "cell_type": "markdown",
   "metadata": {},
   "source": [
    "## Latitude vs. Temperature Plot"
   ]
  },
  {
   "cell_type": "code",
   "execution_count": 10,
   "metadata": {
    "scrolled": true
   },
   "outputs": [
    {
     "data": {
      "image/png": "[encoded data removed]",
      "text/plain": [
       "<Figure size 432x288 with 1 Axes>"
      ]
     },
     "metadata": {
      "needs_background": "light"
     },
     "output_type": "display_data"
    }
   ],
   "source": [
    "# Plot of Lat vs Max Temp\n",
    "# import of time dependecie dates can be added to plots\n",
    "import time\n",
    "\n",
    "# Creation of scatter plot lat vs temp\n",
    "x_values = clean_city_data['Lat']\n",
    "y_values = clean_city_data['Max Temp']\n",
    "plt.scatter(x_values,y_values)\n",
    "plt.title(f\"City Latitude vs. Max Temperature on \"+ time.strftime(\"%x\"))\n",
    "plt.xlabel('City Latitude')\n",
    "plt.ylabel('Max Temperature F')\n",
    "plt.show()"
   ]
  },
  {
   "cell_type": "markdown",
   "metadata": {},
   "source": [
    "## Latitude vs. Humidity Plot"
   ]
  },
  {
   "cell_type": "code",
   "execution_count": 11,
   "metadata": {},
   "outputs": [
    {
     "data": {
      "image/png": "[encoded data removed]",
      "text/plain": [
       "<Figure size 432x288 with 1 Axes>"
      ]
     },
     "metadata": {
      "needs_background": "light"
     },
     "output_type": "display_data"
    }
   ],
   "source": [
    "# Creation of scatter plot  lat vs humidity\n",
    "x_values = clean_city_data['Lat']\n",
    "y_values = clean_city_data['Humidity']\n",
    "plt.scatter(x_values,y_values)\n",
    "plt.title(f\"City Latitude vs. Humidity Percentage \"+ time.strftime(\"%x\"))\n",
    "plt.xlabel('City Latitude')\n",
    "plt.ylabel('Humidity %')\n",
    "plt.show()"
   ]
  },
  {
   "cell_type": "markdown",
   "metadata": {},
   "source": [
    "## Latitude vs. Cloudiness Plot"
   ]
  },
  {
   "cell_type": "code",
   "execution_count": 12,
   "metadata": {},
   "outputs": [
    {
     "data": {
      "image/png": "[encoded data removed]",
      "text/plain": [
       "<Figure size 432x288 with 1 Axes>"
      ]
     },
     "metadata": {
      "needs_background": "light"
     },
     "output_type": "display_data"
    }
   ],
   "source": [
    "# Creation of scatter plot lat vs cloudiness\n",
    "x_values = clean_city_data['Lat']\n",
    "y_values = clean_city_data['Cloudiness']\n",
    "plt.scatter(x_values,y_values)\n",
    "plt.title(f\"City Latitude vs. Cloudiness \"+ time.strftime(\"%x\"))\n",
    "plt.xlabel('City Latitude')\n",
    "plt.ylabel('Cloudiness')\n",
    "plt.show()"
   ]
  },
  {
   "cell_type": "markdown",
   "metadata": {},
   "source": [
    "## Latitude vs. Wind Speed Plot"
   ]
  },
  {
   "cell_type": "code",
   "execution_count": 13,
   "metadata": {},
   "outputs": [
    {
     "data": {
      "image/png": "[encoded data removed]",
      "text/plain": [
       "<Figure size 432x288 with 1 Axes>"
      ]
     },
     "metadata": {
      "needs_background": "light"
     },
     "output_type": "display_data"
    }
   ],
   "source": [
    "# Creation of scatter plot lat vs wind speed\n",
    "x_values = clean_city_data['Lat']\n",
    "y_values = clean_city_data['Wind Speed']\n",
    "plt.scatter(x_values,y_values)\n",
    "plt.title(f\"City Latitude vs. Wind Speed \"+ time.strftime(\"%x\"))\n",
    "plt.xlabel('City Latitude')\n",
    "plt.ylabel('Cloudiness')\n",
    "plt.show()"
   ]
  },
  {
   "cell_type": "markdown",
   "metadata": {},
   "source": [
    "## Linear Regression"
   ]
  },
  {
   "cell_type": "code",
   "execution_count": 14,
   "metadata": {},
   "outputs": [],
   "source": [
    "# Create Northen and Southern Hemisphere DataFrames.\n",
    "north_hemi_df = clean_city_data.loc[(city_data_df[\"Lat\"] >= 0)]\n",
    "south_hemi_df = clean_city_data.loc[(city_data_df[\"Lat\"] < 0)]"
   ]
  },
  {
   "cell_type": "markdown",
   "metadata": {},
   "source": [
    "####  Northern Hemisphere - Max Temp vs. Latitude Linear Regression"
   ]
  },
  {
   "cell_type": "code",
   "execution_count": 15,
   "metadata": {},
   "outputs": [
    {
     "name": "stdout",
     "output_type": "stream",
     "text": [
      "The r-value is: -0.6181003924279647\n"
     ]
    },
    {
     "data": {
      "image/png": "[encoded data removed]",
      "text/plain": [
       "<Figure size 432x288 with 1 Axes>"
      ]
     },
     "metadata": {
      "needs_background": "light"
     },
     "output_type": "display_data"
    }
   ],
   "source": [
    "# import Lingress\n",
    "from scipy.stats import linregress\n",
    "\n",
    "# create scater plot with lat vs max temp plus linear regression\n",
    "x_values = north_hemi_df['Lat']\n",
    "y_values = north_hemi_df['Max Temp']\n",
    "\n",
    "# linear regression calc and plot\n",
    "(slope, intercept, rvalue, pvalue, stderr) = linregress(x_values, y_values)\n",
    "regress_values = x_values * slope + intercept\n",
    "line_eq = \"y = \" + str(round(slope,2)) + \"x + \" + str(round(intercept,2))\n",
    "plt.scatter(x_values,y_values)\n",
    "plt.plot(x_values,regress_values,\"r-\")\n",
    "plt.annotate(line_eq,(0,275),fontsize=15,color=\"red\")\n",
    "\n",
    "# Labeling and r value\n",
    "plt.title(f\"Northern Hemisphere City Latitude vs. Max Temp \"+ time.strftime(\"%x\"))\n",
    "plt.xlabel('City Latitude')\n",
    "plt.ylabel('Max Temperature F')\n",
    "print(f\"The r-value is: {rvalue}\")\n",
    "plt.show()"
   ]
  },
  {
   "cell_type": "markdown",
   "metadata": {},
   "source": [
    "####  Southern Hemisphere - Max Temp vs. Latitude Linear Regression"
   ]
  },
  {
   "cell_type": "code",
   "execution_count": 16,
   "metadata": {},
   "outputs": [
    {
     "name": "stdout",
     "output_type": "stream",
     "text": [
      "The r-value is: 0.7109047348268182\n"
     ]
    },
    {
     "data": {
      "image/png": "[encoded data removed]",
      "text/plain": [
       "<Figure size 432x288 with 1 Axes>"
      ]
     },
     "metadata": {
      "needs_background": "light"
     },
     "output_type": "display_data"
    }
   ],
   "source": [
    "# create scater plot with lat vs max temp plus linear regression\n",
    "x_values = south_hemi_df['Lat']\n",
    "y_values = south_hemi_df['Max Temp']\n",
    "\n",
    "# linear regression calc and plot\n",
    "(slope, intercept, rvalue, pvalue, stderr) = linregress(x_values, y_values)\n",
    "regress_values = x_values * slope + intercept\n",
    "line_eq = \"y = \" + str(round(slope,2)) + \"x + \" + str(round(intercept,2))\n",
    "plt.scatter(x_values,y_values)\n",
    "plt.plot(x_values,regress_values,\"r-\")\n",
    "plt.annotate(line_eq,(-30,275),fontsize=15,color=\"red\")\n",
    "\n",
    "# Labeling and r value\n",
    "plt.title(f\"Southern Hemisphere City Latitude vs. Max Temp \"+ time.strftime(\"%x\"))\n",
    "plt.xlabel('City Latitude')\n",
    "plt.ylabel('Max Temperature F')\n",
    "print(f\"The r-value is: {rvalue}\")\n",
    "plt.show()"
   ]
  },
  {
   "cell_type": "markdown",
   "metadata": {},
   "source": [
    "####  Northern Hemisphere - Humidity (%) vs. Latitude Linear Regression"
   ]
  },
  {
   "cell_type": "code",
   "execution_count": 17,
   "metadata": {},
   "outputs": [
    {
     "name": "stdout",
     "output_type": "stream",
     "text": [
      "The r-value is: -0.08058250547788476\n"
     ]
    },
    {
     "data": {
      "image/png": "[encoded data removed]",
      "text/plain": [
       "<Figure size 432x288 with 1 Axes>"
      ]
     },
     "metadata": {
      "needs_background": "light"
     },
     "output_type": "display_data"
    }
   ],
   "source": [
    "# create scater plot with lat vs humidity plus linear regression\n",
    "x_values = north_hemi_df['Lat']\n",
    "y_values = north_hemi_df['Humidity']\n",
    "\n",
    "# linear regression calc and plot\n",
    "(slope, intercept, rvalue, pvalue, stderr) = linregress(x_values, y_values)\n",
    "regress_values = x_values * slope + intercept\n",
    "line_eq = \"y = \" + str(round(slope,2)) + \"x + \" + str(round(intercept,2))\n",
    "plt.scatter(x_values,y_values)\n",
    "plt.plot(x_values,regress_values,\"r-\")\n",
    "plt.annotate(line_eq,(45,10),fontsize=15,color=\"red\")\n",
    "\n",
    "# Labeling and r value\n",
    "plt.title(f\"Northern Hemisphere City Latitude vs. Humidity % \"+ time.strftime(\"%x\"))\n",
    "plt.xlabel('City Latitude')\n",
    "plt.ylabel('Humidity %')\n",
    "print(f\"The r-value is: {rvalue}\")\n",
    "plt.show()"
   ]
  },
  {
   "cell_type": "markdown",
   "metadata": {},
   "source": [
    "####  Southern Hemisphere - Humidity (%) vs. Latitude Linear Regression"
   ]
  },
  {
   "cell_type": "code",
   "execution_count": 18,
   "metadata": {},
   "outputs": [
    {
     "name": "stdout",
     "output_type": "stream",
     "text": [
      "The r-value is: 0.07479482894072477\n"
     ]
    },
    {
     "data": {
      "image/png": "[encoded data removed]",
      "text/plain": [
       "<Figure size 432x288 with 1 Axes>"
      ]
     },
     "metadata": {
      "needs_background": "light"
     },
     "output_type": "display_data"
    }
   ],
   "source": [
    "# create scater plot with lat vs humidity plus linear regression\n",
    "x_values = south_hemi_df['Lat']\n",
    "y_values = south_hemi_df['Humidity']\n",
    "\n",
    "# linear regression calc and plot\n",
    "(slope, intercept, rvalue, pvalue, stderr) = linregress(x_values, y_values)\n",
    "regress_values = x_values * slope + intercept\n",
    "line_eq = \"y = \" + str(round(slope,2)) + \"x + \" + str(round(intercept,2))\n",
    "plt.scatter(x_values,y_values)\n",
    "plt.plot(x_values,regress_values,\"r-\")\n",
    "plt.annotate(line_eq,(-50,37),fontsize=15,color=\"red\")\n",
    "\n",
    "# Labeling and r value\n",
    "plt.title(f\"Southern Hemisphere City Latitude vs. Humidity % \"+ time.strftime(\"%x\"))\n",
    "plt.xlabel('City Latitude')\n",
    "plt.ylabel('Humidity %')\n",
    "print(f\"The r-value is: {rvalue}\")\n",
    "plt.show()"
   ]
  },
  {
   "cell_type": "markdown",
   "metadata": {},
   "source": [
    "####  Northern Hemisphere - Cloudiness (%) vs. Latitude Linear Regression"
   ]
  },
  {
   "cell_type": "code",
   "execution_count": 19,
   "metadata": {},
   "outputs": [
    {
     "name": "stdout",
     "output_type": "stream",
     "text": [
      "The r-value is: 0.02774631858585434\n"
     ]
    },
    {
     "data": {
      "image/png": "[encoded data removed]",
      "text/plain": [
       "<Figure size 432x288 with 1 Axes>"
      ]
     },
     "metadata": {
      "needs_background": "light"
     },
     "output_type": "display_data"
    }
   ],
   "source": [
    "# create scater plot with lat vs Cloudiness plus linear regression\n",
    "x_values = north_hemi_df['Lat']\n",
    "y_values = north_hemi_df['Cloudiness']\n",
    "\n",
    "# linear regression calc and plot\n",
    "(slope, intercept, rvalue, pvalue, stderr) = linregress(x_values, y_values)\n",
    "regress_values = x_values * slope + intercept\n",
    "line_eq = \"y = \" + str(round(slope,2)) + \"x + \" + str(round(intercept,2))\n",
    "plt.scatter(x_values,y_values)\n",
    "plt.plot(x_values,regress_values,\"r-\")\n",
    "plt.annotate(line_eq,(30,65),fontsize=15,color=\"red\")\n",
    "\n",
    "# Labeling and r value\n",
    "plt.title(f\"Northern Hemisphere City Latitude vs. Cloudiness % \"+ time.strftime(\"%x\"))\n",
    "plt.xlabel('City Latitude')\n",
    "plt.ylabel('Cloudiness')\n",
    "print(f\"The r-value is: {rvalue}\")\n",
    "plt.show()"
   ]
  },
  {
   "cell_type": "markdown",
   "metadata": {},
   "source": [
    "####  Southern Hemisphere - Cloudiness (%) vs. Latitude Linear Regression"
   ]
  },
  {
   "cell_type": "code",
   "execution_count": 20,
   "metadata": {},
   "outputs": [
    {
     "name": "stdout",
     "output_type": "stream",
     "text": [
      "The r-value is: -0.007833407877238303\n"
     ]
    },
    {
     "data": {
      "image/png": "[encoded data removed]",
      "text/plain": [
       "<Figure size 432x288 with 1 Axes>"
      ]
     },
     "metadata": {
      "needs_background": "light"
     },
     "output_type": "display_data"
    }
   ],
   "source": [
    "# create scater plot with lat vs Cloudiness plus linear regression\n",
    "x_values = south_hemi_df['Lat']\n",
    "y_values = south_hemi_df['Cloudiness']\n",
    "\n",
    "# linear regression calc and plot\n",
    "(slope, intercept, rvalue, pvalue, stderr) = linregress(x_values, y_values)\n",
    "regress_values = x_values * slope + intercept\n",
    "line_eq = \"y = \" + str(round(slope,2)) + \"x + \" + str(round(intercept,2))\n",
    "plt.scatter(x_values,y_values)\n",
    "plt.plot(x_values,regress_values,\"r-\")\n",
    "plt.annotate(line_eq,(-50,22),fontsize=15,color=\"red\")\n",
    "\n",
    "# Labeling and r value\n",
    "plt.title(f\"Southern Hemisphere City Latitude vs. Cloudiness \"+ time.strftime(\"%x\"))\n",
    "plt.xlabel('City Latitude')\n",
    "plt.ylabel('Humidity %')\n",
    "print(f\"The r-value is: {rvalue}\")\n",
    "plt.show()"
   ]
  },
  {
   "cell_type": "markdown",
   "metadata": {},
   "source": [
    "####  Northern Hemisphere - Wind Speed (mph) vs. Latitude Linear Regression"
   ]
  },
  {
   "cell_type": "code",
   "execution_count": 21,
   "metadata": {},
   "outputs": [
    {
     "name": "stdout",
     "output_type": "stream",
     "text": [
      "The r-value is: 0.033455713816398065\n"
     ]
    },
    {
     "data": {
      "image/png": "[encoded data removed]",
      "text/plain": [
       "<Figure size 432x288 with 1 Axes>"
      ]
     },
     "metadata": {
      "needs_background": "light"
     },
     "output_type": "display_data"
    }
   ],
   "source": [
    "# create scater plot with lat vs Wind Speed plus linear regression\n",
    "x_values = north_hemi_df['Lat']\n",
    "y_values = north_hemi_df['Wind Speed']\n",
    "\n",
    "# linear regression calc and plot\n",
    "(slope, intercept, rvalue, pvalue, stderr) = linregress(x_values, y_values)\n",
    "regress_values = x_values * slope + intercept\n",
    "line_eq = \"y = \" + str(round(slope,2)) + \"x + \" + str(round(intercept,2))\n",
    "plt.scatter(x_values,y_values)\n",
    "plt.plot(x_values,regress_values,\"r-\")\n",
    "plt.annotate(line_eq,(40,10),fontsize=15,color=\"red\")\n",
    "\n",
    "# Labeling and r value\n",
    "plt.title(f\"Northern Hemisphere City Latitude vs. Wind Speed \"+ time.strftime(\"%x\"))\n",
    "plt.xlabel('City Latitude')\n",
    "plt.ylabel('Wind Speed (mph)')\n",
    "print(f\"The r-value is: {rvalue}\")\n",
    "plt.show()"
   ]
  },
  {
   "cell_type": "markdown",
   "metadata": {},
   "source": [
    "####  Southern Hemisphere - Wind Speed (mph) vs. Latitude Linear Regression"
   ]
  },
  {
   "cell_type": "code",
   "execution_count": 22,
   "metadata": {},
   "outputs": [
    {
     "name": "stdout",
     "output_type": "stream",
     "text": [
      "The r-value is: -0.25526798305547066\n"
     ]
    },
    {
     "data": {
      "image/png": "[encoded data removed]",
      "text/plain": [
       "<Figure size 432x288 with 1 Axes>"
      ]
     },
     "metadata": {
      "needs_background": "light"
     },
     "output_type": "display_data"
    }
   ],
   "source": [
    "# create scater plot with lat vs Wind Speed plus linear regression\n",
    "x_values = south_hemi_df['Lat']\n",
    "y_values = south_hemi_df['Wind Speed']\n",
    "\n",
    "# linear regression calc and plot\n",
    "(slope, intercept, rvalue, pvalue, stderr) = linregress(x_values, y_values)\n",
    "regress_values = x_values * slope + intercept\n",
    "line_eq = \"y = \" + str(round(slope,2)) + \"x + \" + str(round(intercept,2))\n",
    "plt.scatter(x_values,y_values)\n",
    "plt.plot(x_values,regress_values,\"r-\")\n",
    "plt.annotate(line_eq,(-30,11),fontsize=15,color=\"red\")\n",
    "\n",
    "# Labeling and r value\n",
    "plt.title(f\"Southern Hemisphere City Latitude vs. Wind Speed \"+ time.strftime(\"%x\"))\n",
    "plt.xlabel('City Latitude')\n",
    "plt.ylabel('Wind Speed (mph)')\n",
    "print(f\"The r-value is: {rvalue}\")\n",
    "plt.show()"
   ]
  },
  {
   "cell_type": "code",
   "execution_count": null,
   "metadata": {},
   "outputs": [],
   "source": []
  }
 ],
 "metadata": {
  "anaconda-cloud": {},
  "kernel_info": {
   "name": "python3"
  },
  "kernelspec": {
   "display_name": "Python 3.7.13 ('bootcamp')",
   "language": "python",
   "name": "python3"
  },
  "language_info": {
   "codemirror_mode": {
    "name": "ipython",
    "version": 3
   },
   "file_extension": ".py",
   "mimetype": "text/x-python",
   "name": "python",
   "nbconvert_exporter": "python",
   "pygments_lexer": "ipython3",
   "version": "3.7.13"
  },
  "latex_envs": {
   "LaTeX_envs_menu_present": true,
   "autoclose": false,
   "autocomplete": true,
   "bibliofile": "biblio.bib",
   "cite_by": "apalike",
   "current_citInitial": 1,
   "eqLabelWithNumbers": true,
   "eqNumInitial": 1,
   "hotkeys": {
    "equation": "Ctrl-E",
    "itemize": "Ctrl-I"
   },
   "labels_anchors": false,
   "latex_user_defs": false,
   "report_style_numbering": false,
   "user_envs_cfg": false
  },
  "nteract": {
   "version": "0.12.3"
  },
  "vscode": {
   "interpreter": {
    "hash": "2bc8728f68034420f4cc4c1a33cad6b752b6f009e9e443ca9c4b593c272a5f29"
   }
  }
 },
 "nbformat": 4,
 "nbformat_minor": 2
}

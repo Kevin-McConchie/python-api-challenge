{
 "cells": [
  {
   "cell_type": "markdown",
   "metadata": {},
   "source": [
    "#### Observations\n",
    "* "
   ]
  },
  {
   "cell_type": "code",
   "execution_count": 1,
   "metadata": {
    "scrolled": true
   },
   "outputs": [],
   "source": [
    "#dependencies\n",
    "import os\n",
    "import requests\n",
    "import json\n",
    "import pandas as pd\n",
    "import random\n",
    "import numpy as np\n",
    "from citipy import citipy\n",
    "import gmaps\n",
    "import matplotlib.pyplot as plt\n",
    "from config import w_api"
   ]
  },
  {
   "cell_type": "markdown",
   "metadata": {},
   "source": [
    "## Generate Cities List"
   ]
  },
  {
   "cell_type": "code",
   "execution_count": 2,
   "metadata": {},
   "outputs": [],
   "source": [
    "# cities list\n",
    "cities=[]\n",
    "# latitude and longitude list\n",
    "loc=[]\n",
    "\n",
    "# crate random latitude and longitude locations\n",
    "lat = np.random.uniform(low=-90,high=90.,size=1500)\n",
    "lng= np.random.uniform(low=-180,high=180.,size=1500)\n",
    "\n",
    "# combine them into a list\n",
    "locs= zip(lat,lng)\n",
    "\n",
    "# print(tuple(loc))\n"
   ]
  },
  {
   "cell_type": "code",
   "execution_count": 3,
   "metadata": {},
   "outputs": [
    {
     "data": {
      "text/plain": [
       "628"
      ]
     },
     "execution_count": 3,
     "metadata": {},
     "output_type": "execute_result"
    }
   ],
   "source": [
    "# pick cities closest to random locations\n",
    "for loc in locs:\n",
    "    city = citipy.nearest_city(loc[0],loc[1]).city_name\n",
    "    \n",
    "    # check if city is in list, if not, add it.\n",
    "    if city not in cities:\n",
    "        cities.append(city)\n",
    "\n",
    "# confirm number of cities\n",
    "len(cities)\n"
   ]
  },
  {
   "cell_type": "markdown",
   "metadata": {},
   "source": [
    "### Perform API Calls\n",
    "* Perform a weather check on each city using a series of successive API calls.\n",
    "* Include a print log of each city as it'sbeing processed (with the city number and city name).\n"
   ]
  },
  {
   "cell_type": "code",
   "execution_count": null,
   "metadata": {
    "scrolled": true
   },
   "outputs": [
    {
     "name": "stdout",
     "output_type": "stream",
     "text": [
      "Beginning Data Retrieval \n",
      "-----------------------------\n",
      "Processing Record 1 of Set 1 | constitucion\n",
      "Processing Record 2 of Set 1 | lebu\n",
      "Processing Record 3 of Set 1 | port alfred\n",
      "Processing Record 4 of Set 1 | sao filipe\n",
      "Processing Record 5 of Set 1 | mahadday weyne\n",
      "City not found. Skipping...\n",
      "Processing Record 6 of Set 1 | tasiilaq\n",
      "Processing Record 7 of Set 1 | vaitupu\n",
      "City not found. Skipping...\n",
      "Processing Record 8 of Set 1 | ushuaia\n",
      "Processing Record 9 of Set 1 | albany\n",
      "Processing Record 10 of Set 1 | port lincoln\n",
      "Processing Record 11 of Set 1 | evensk\n",
      "Processing Record 12 of Set 1 | barrow\n",
      "Processing Record 13 of Set 1 | ucluelet\n",
      "Processing Record 14 of Set 1 | okhotsk\n",
      "Processing Record 15 of Set 1 | mahebourg\n",
      "Processing Record 16 of Set 1 | louisbourg\n",
      "City not found. Skipping...\n",
      "Processing Record 17 of Set 1 | rikitea\n",
      "Processing Record 18 of Set 1 | sokoni\n",
      "Processing Record 19 of Set 1 | hobart\n",
      "Processing Record 20 of Set 1 | hopelchen\n",
      "Processing Record 21 of Set 1 | tsalenjikha\n",
      "Processing Record 22 of Set 1 | punta arenas\n",
      "Processing Record 23 of Set 1 | mount gambier\n",
      "Processing Record 24 of Set 1 | katsuura\n",
      "Processing Record 25 of Set 1 | robertsport\n",
      "Processing Record 26 of Set 1 | la asuncion\n",
      "Processing Record 27 of Set 1 | hermanus\n",
      "Processing Record 28 of Set 1 | provideniya\n",
      "Processing Record 29 of Set 1 | sukumo\n",
      "Processing Record 30 of Set 1 | bengkulu\n",
      "Processing Record 31 of Set 1 | vao\n",
      "Processing Record 32 of Set 1 | mataura\n",
      "Processing Record 33 of Set 1 | pevek\n",
      "Processing Record 34 of Set 1 | sahrak\n",
      "City not found. Skipping...\n",
      "Processing Record 35 of Set 1 | hami\n",
      "Processing Record 36 of Set 1 | cape town\n",
      "Processing Record 37 of Set 1 | taolanaro\n",
      "City not found. Skipping...\n",
      "Processing Record 38 of Set 1 | flin flon\n",
      "Processing Record 39 of Set 1 | puerto ayora\n",
      "Processing Record 40 of Set 1 | souillac\n",
      "Processing Record 41 of Set 1 | chuy\n",
      "Processing Record 42 of Set 1 | hilo\n",
      "Processing Record 43 of Set 1 | suarez\n",
      "Processing Record 44 of Set 1 | kralendijk\n",
      "Processing Record 45 of Set 1 | bongandanga\n",
      "Processing Record 46 of Set 1 | fortuna\n",
      "Processing Record 47 of Set 1 | busselton\n",
      "Processing Record 48 of Set 1 | victoria\n",
      "Processing Record 49 of Set 1 | san policarpo\n",
      "Processing Record 50 of Set 1 | port hardy\n",
      "Processing Record 0 of Set 2 | ribeira grande\n",
      "Processing Record 1 of Set 2 | kumta\n",
      "Processing Record 2 of Set 2 | liwonde\n",
      "Processing Record 3 of Set 2 | codrington\n",
      "Processing Record 4 of Set 2 | castro\n",
      "Processing Record 5 of Set 2 | tsihombe\n",
      "City not found. Skipping...\n",
      "Processing Record 6 of Set 2 | sentyabrskiy\n",
      "City not found. Skipping...\n",
      "Processing Record 7 of Set 2 | georgetown\n",
      "Processing Record 8 of Set 2 | banda aceh\n",
      "Processing Record 9 of Set 2 | illoqqortoormiut\n",
      "City not found. Skipping...\n",
      "Processing Record 10 of Set 2 | cap malheureux\n",
      "Processing Record 11 of Set 2 | jamestown\n",
      "Processing Record 12 of Set 2 | deputatskiy\n",
      "Processing Record 13 of Set 2 | amuntai\n",
      "Processing Record 14 of Set 2 | kapaa\n",
      "Processing Record 15 of Set 2 | grootfontein\n",
      "Processing Record 16 of Set 2 | bandarbeyla\n",
      "Processing Record 17 of Set 2 | nizhneyansk\n",
      "City not found. Skipping...\n",
      "Processing Record 18 of Set 2 | warqla\n",
      "City not found. Skipping...\n",
      "Processing Record 19 of Set 2 | verkhneuralsk\n",
      "Processing Record 20 of Set 2 | arklow\n",
      "Processing Record 21 of Set 2 | grindavik\n",
      "Processing Record 22 of Set 2 | mrirt\n",
      "City not found. Skipping...\n",
      "Processing Record 23 of Set 2 | kamenskoye\n",
      "City not found. Skipping...\n",
      "Processing Record 24 of Set 2 | barela\n",
      "Processing Record 25 of Set 2 | avarua\n",
      "Processing Record 26 of Set 2 | khatanga\n",
      "Processing Record 27 of Set 2 | port elizabeth\n",
      "Processing Record 28 of Set 2 | airai\n",
      "Processing Record 29 of Set 2 | freeport\n",
      "Processing Record 30 of Set 2 | pedernales\n",
      "Processing Record 31 of Set 2 | tubruq\n",
      "City not found. Skipping...\n",
      "Processing Record 32 of Set 2 | sola\n",
      "Processing Record 33 of Set 2 | chandler\n",
      "Processing Record 34 of Set 2 | malkangiri\n",
      "Processing Record 35 of Set 2 | atbasar\n",
      "Processing Record 36 of Set 2 | vaini\n",
      "Processing Record 37 of Set 2 | alzamay\n",
      "Processing Record 38 of Set 2 | san andres\n",
      "Processing Record 39 of Set 2 | campeche\n",
      "Processing Record 40 of Set 2 | san patricio\n",
      "Processing Record 41 of Set 2 | chokurdakh\n",
      "Processing Record 42 of Set 2 | kawambwa\n",
      "Processing Record 43 of Set 2 | vanimo\n",
      "Processing Record 44 of Set 2 | umm lajj\n",
      "Processing Record 45 of Set 2 | guerrero negro\n",
      "Processing Record 46 of Set 2 | nabire\n",
      "Processing Record 47 of Set 2 | rio de jesus\n",
      "Processing Record 48 of Set 2 | arlit\n",
      "Processing Record 49 of Set 2 | coihaique\n",
      "Processing Record 0 of Set 3 | saint-augustin\n",
      "Processing Record 1 of Set 3 | beisfjord\n",
      "Processing Record 2 of Set 3 | kuusamo\n",
      "Processing Record 3 of Set 3 | walvis bay\n",
      "Processing Record 4 of Set 3 | qaanaaq\n",
      "Processing Record 5 of Set 3 | portland\n",
      "Processing Record 6 of Set 3 | sistranda\n",
      "Processing Record 7 of Set 3 | tuatapere\n",
      "Processing Record 8 of Set 3 | ende\n",
      "Processing Record 9 of Set 3 | muros\n",
      "Processing Record 10 of Set 3 | butaritari\n",
      "Processing Record 11 of Set 3 | waihi beach\n",
      "Processing Record 12 of Set 3 | mulki\n",
      "Processing Record 13 of Set 3 | iskateley\n",
      "Processing Record 14 of Set 3 | samarai\n",
      "Processing Record 15 of Set 3 | karaul\n",
      "City not found. Skipping...\n",
      "Processing Record 16 of Set 3 | attawapiskat\n",
      "City not found. Skipping...\n",
      "Processing Record 17 of Set 3 | beohari\n",
      "Processing Record 18 of Set 3 | vostok\n",
      "Processing Record 19 of Set 3 | shingu\n",
      "Processing Record 20 of Set 3 | bethel\n",
      "Processing Record 21 of Set 3 | calama\n",
      "Processing Record 22 of Set 3 | marzuq\n",
      "Processing Record 23 of Set 3 | nemuro\n",
      "Processing Record 24 of Set 3 | wanaka\n",
      "Processing Record 25 of Set 3 | beli potok\n",
      "Processing Record 26 of Set 3 | paracuru\n",
      "Processing Record 27 of Set 3 | benghazi\n",
      "Processing Record 28 of Set 3 | poum\n",
      "Processing Record 29 of Set 3 | vila franca do campo\n",
      "Processing Record 30 of Set 3 | esperance\n",
      "Processing Record 31 of Set 3 | belmonte\n",
      "Processing Record 32 of Set 3 | komsomolskiy\n",
      "Processing Record 33 of Set 3 | leningradskiy\n",
      "Processing Record 34 of Set 3 | barentsburg\n",
      "City not found. Skipping...\n",
      "Processing Record 35 of Set 3 | george\n",
      "Processing Record 36 of Set 3 | bluff\n",
      "Processing Record 37 of Set 3 | ixtapa\n",
      "Processing Record 38 of Set 3 | soure\n",
      "Processing Record 39 of Set 3 | salinopolis\n",
      "Processing Record 40 of Set 3 | shahr-e babak\n",
      "Processing Record 41 of Set 3 | porto murtinho\n",
      "Processing Record 42 of Set 3 | nikolskoye\n",
      "Processing Record 43 of Set 3 | geraldton\n",
      "Processing Record 44 of Set 3 | mehamn\n",
      "Processing Record 45 of Set 3 | sao joao da barra\n",
      "Processing Record 46 of Set 3 | weligama\n",
      "Processing Record 47 of Set 3 | mys shmidta\n",
      "City not found. Skipping...\n",
      "Processing Record 48 of Set 3 | shimoda\n",
      "Processing Record 49 of Set 3 | alindao\n",
      "Processing Record 0 of Set 4 | huilong\n",
      "Processing Record 1 of Set 4 | mar del plata\n",
      "Processing Record 2 of Set 4 | lubao\n",
      "Processing Record 3 of Set 4 | buraydah\n",
      "Processing Record 4 of Set 4 | senno\n",
      "Processing Record 5 of Set 4 | aykhal\n",
      "Processing Record 6 of Set 4 | tautira\n",
      "Processing Record 7 of Set 4 | buala\n",
      "Processing Record 8 of Set 4 | itarema\n",
      "Processing Record 9 of Set 4 | baker city\n",
      "Processing Record 10 of Set 4 | birin\n",
      "Processing Record 11 of Set 4 | puerto el triunfo\n",
      "Processing Record 12 of Set 4 | burnie\n",
      "Processing Record 13 of Set 4 | tieli\n",
      "Processing Record 14 of Set 4 | tuktoyaktuk\n",
      "Processing Record 15 of Set 4 | hithadhoo\n",
      "Processing Record 16 of Set 4 | mushie\n",
      "Processing Record 17 of Set 4 | yellowknife\n",
      "Processing Record 18 of Set 4 | washougal\n",
      "Processing Record 19 of Set 4 | darab\n",
      "Processing Record 20 of Set 4 | samalaeulu\n",
      "City not found. Skipping...\n",
      "Processing Record 21 of Set 4 | east london\n",
      "Processing Record 22 of Set 4 | impfondo\n",
      "Processing Record 23 of Set 4 | jardim\n",
      "Processing Record 24 of Set 4 | culpeper\n",
      "Processing Record 25 of Set 4 | yar-sale\n",
      "Processing Record 26 of Set 4 | svobodnyy\n",
      "Processing Record 27 of Set 4 | dikson\n",
      "Processing Record 28 of Set 4 | krasnyy chikoy\n",
      "Processing Record 29 of Set 4 | yulara\n",
      "Processing Record 30 of Set 4 | tarnogskiy gorodok\n",
      "Processing Record 31 of Set 4 | isangel\n",
      "Processing Record 32 of Set 4 | iqaluit\n",
      "Processing Record 33 of Set 4 | jining\n",
      "Processing Record 34 of Set 4 | saskylakh\n"
     ]
    },
    {
     "name": "stdout",
     "output_type": "stream",
     "text": [
      "Processing Record 35 of Set 4 | klaksvik\n",
      "Processing Record 36 of Set 4 | north bend\n",
      "Processing Record 37 of Set 4 | san cristobal\n",
      "Processing Record 38 of Set 4 | melo\n",
      "Processing Record 39 of Set 4 | pisco\n",
      "Processing Record 40 of Set 4 | kaitangata\n",
      "Processing Record 41 of Set 4 | flinders\n",
      "Processing Record 42 of Set 4 | tangkak\n",
      "Processing Record 43 of Set 4 | atar\n",
      "Processing Record 44 of Set 4 | beroroha\n",
      "Processing Record 45 of Set 4 | teguldet\n",
      "Processing Record 46 of Set 4 | kavaratti\n",
      "Processing Record 47 of Set 4 | atuona\n",
      "Processing Record 48 of Set 4 | palabuhanratu\n",
      "City not found. Skipping...\n",
      "Processing Record 49 of Set 4 | palmer\n",
      "Processing Record 0 of Set 5 | fare\n",
      "Processing Record 1 of Set 5 | te anau\n",
      "Processing Record 2 of Set 5 | buenaventura\n",
      "Processing Record 3 of Set 5 | ostrovnoy\n",
      "Processing Record 4 of Set 5 | bredasdorp\n",
      "Processing Record 5 of Set 5 | santa ana\n",
      "Processing Record 6 of Set 5 | manzanillo\n",
      "Processing Record 7 of Set 5 | magadan\n",
      "Processing Record 8 of Set 5 | payo\n",
      "Processing Record 9 of Set 5 | taft\n",
      "Processing Record 10 of Set 5 | kodiak\n"
     ]
    }
   ],
   "source": [
    "# create url for requests\n",
    "units=\"imperial\"\n",
    "api= f\"&APPID={w_api}\"\n",
    "url = f\"https://api.openweathermap.org/data/2.5/weather?{units}{api}\"\n",
    "\n",
    "# create list for data retreived from openweathermap\n",
    "city_data =[]\n",
    "\n",
    "\n",
    "# show data retrieval\n",
    "print(\"Beginning Data Retrieval \\n\"     \n",
    "    \"-----------------------------\")\n",
    "set_count =1\n",
    "record_count = 1\n",
    "\n",
    "for i, city in enumerate(cities):\n",
    "\n",
    "    # Group cities in sets of 50 for logging purposes\n",
    "    if (i % 50 == 0 and i >= 50):\n",
    "        set_count += 1\n",
    "        record_count = 0\n",
    "\n",
    "    # Create endpoint URL with each city\n",
    "    city_url = url + \"&q=\" + city\n",
    "    \n",
    "    # Log the url, record, and set numbers\n",
    "    print(\"Processing Record %s of Set %s | %s\" % (record_count, set_count, city))\n",
    "\n",
    "    # Add 1 to the record count\n",
    "    record_count += 1\n",
    "    \n",
    "    # try statement to skip cties that don't exist in data\n",
    "    try:\n",
    "        city_weather = requests.get(city_url).json()\n",
    "        \n",
    "    # Parse out the max temp, humidity, and cloudiness\n",
    "        city_lat = city_weather[\"coord\"][\"lat\"]\n",
    "        city_lng = city_weather[\"coord\"][\"lon\"]\n",
    "        city_max_temp = city_weather[\"main\"][\"temp_max\"]\n",
    "        city_humidity = city_weather[\"main\"][\"humidity\"]\n",
    "        city_clouds = city_weather[\"clouds\"][\"all\"]\n",
    "        city_wind = city_weather[\"wind\"][\"speed\"]\n",
    "        city_country = city_weather[\"sys\"][\"country\"]\n",
    "        city_date = city_weather[\"dt\"]\n",
    "        \n",
    "        # add info to list\n",
    "        city_data.append({\"City\": city, \n",
    "                            \"Lat\": city_lat, \n",
    "                            \"Lng\": city_lng, \n",
    "                            \"Max Temp\": city_max_temp,\n",
    "                            \"Humidity\": city_humidity,\n",
    "                            \"Cloudiness\": city_clouds,\n",
    "                            \"Wind Speed\": city_wind,\n",
    "                            \"Country\": city_country,\n",
    "                            \"Date\": city_date})\n",
    "\n",
    "    except:\n",
    "        print(\"City not found. Skipping...\")\n",
    "        pass\n",
    "print(\"Data retrieval is complete.\")\n"
   ]
  },
  {
   "cell_type": "markdown",
   "metadata": {},
   "source": [
    "### Convert Raw Data to DataFrame\n",
    "* Export the city data into a .csv.\n",
    "* Display the DataFrame"
   ]
  },
  {
   "cell_type": "code",
   "execution_count": null,
   "metadata": {},
   "outputs": [],
   "source": [
    "\n",
    "# create data frame from requests\n",
    "city_data_df= pd.DataFrame(city_data)\n",
    "\n",
    "\n",
    "\n",
    "# Exports DataFrame as a csv file\n",
    "city_data_df.to_csv(\"../output_data/city_data_df.csv\",\n",
    "                    encoding=\"utf-8\", header=True)\n",
    "\n",
    "city_data_df.head(10)"
   ]
  },
  {
   "cell_type": "code",
   "execution_count": null,
   "metadata": {},
   "outputs": [],
   "source": [
    "# describe Humidty for count check and max value\n",
    "city_data_df[\"Humidity\"].describe()"
   ]
  },
  {
   "cell_type": "markdown",
   "metadata": {},
   "source": [
    "## Inspect the data and remove the cities where the humidity > 100%.\n",
    "----\n",
    "Skip this step if there are no cities that have humidity > 100%. "
   ]
  },
  {
   "cell_type": "code",
   "execution_count": null,
   "metadata": {},
   "outputs": [],
   "source": [
    "#no cities over 100% humidity"
   ]
  },
  {
   "cell_type": "code",
   "execution_count": null,
   "metadata": {},
   "outputs": [],
   "source": [
    "# Visual check of data for outliers\n",
    "humidity_df = pd.read_csv(\"../output_data/city_data_df.csv\")\n",
    "humidity =humidity_df[\"Humidity\"]\n",
    "\n",
    "fig1, ax1 = plt.subplots()\n",
    "ax1.set_title('City Humidity %')\n",
    "ax1.set_ylabel(\"Humidity\")\n",
    "ax1.boxplot(humidity)\n",
    "plt.show()\n",
    "# count of values for comparision in next step\n",
    "len(humidity_df)\n"
   ]
  },
  {
   "cell_type": "code",
   "execution_count": null,
   "metadata": {},
   "outputs": [],
   "source": [
    "# Make a new DataFrame equal to the city data to drop all humidity outliers by index.\n",
    "# Passing \"inplace=False\" will make a copy of the city_data DataFrame, which we call \"clean_city_data\".\n",
    "clean_city_data = city_data_df.drop(humidity_df[\"Humidity\"], inplace=False)\n",
    "\n",
    "# count of values for comparision\n",
    "len (clean_city_data)\n",
    "\n"
   ]
  },
  {
   "cell_type": "markdown",
   "metadata": {},
   "source": [
    "## Plotting the Data\n",
    "* Use proper labeling of the plots using plot titles (including date of analysis) and axes labels.\n",
    "* Save the plotted figures as .pngs."
   ]
  },
  {
   "cell_type": "markdown",
   "metadata": {},
   "source": [
    "## Latitude vs. Temperature Plot"
   ]
  },
  {
   "cell_type": "code",
   "execution_count": null,
   "metadata": {
    "scrolled": true
   },
   "outputs": [],
   "source": [
    "# Plot of Lat vs Max Temp\n",
    "# import of time dependecie dates can be added to plots\n",
    "import time\n",
    "\n",
    "# Creation of scatter plot lat vs temp\n",
    "x_values = clean_city_data['Lat']\n",
    "y_values = clean_city_data['Max Temp']\n",
    "plt.scatter(x_values,y_values)\n",
    "plt.title(f\"City Latitude vs. Max Temperature on \"+ time.strftime(\"%x\"))\n",
    "plt.xlabel('City Latitude')\n",
    "plt.ylabel('Max Temperature F')\n",
    "plt.show()"
   ]
  },
  {
   "cell_type": "markdown",
   "metadata": {},
   "source": [
    "## Latitude vs. Humidity Plot"
   ]
  },
  {
   "cell_type": "code",
   "execution_count": null,
   "metadata": {},
   "outputs": [],
   "source": [
    "# Creation of scatter plot  lat vs humidity\n",
    "x_values = clean_city_data['Lat']\n",
    "y_values = clean_city_data['Humidity']\n",
    "plt.scatter(x_values,y_values)\n",
    "plt.title(f\"City Latitude vs. Humidity Percentage \"+ time.strftime(\"%x\"))\n",
    "plt.xlabel('City Latitude')\n",
    "plt.ylabel('Humidity %')\n",
    "plt.show()"
   ]
  },
  {
   "cell_type": "markdown",
   "metadata": {},
   "source": [
    "## Latitude vs. Cloudiness Plot"
   ]
  },
  {
   "cell_type": "code",
   "execution_count": null,
   "metadata": {},
   "outputs": [],
   "source": [
    "# Creation of scatter plot lat vs cloudiness\n",
    "x_values = clean_city_data['Lat']\n",
    "y_values = clean_city_data['Cloudiness']\n",
    "plt.scatter(x_values,y_values)\n",
    "plt.title(f\"City Latitude vs. Cloudiness \"+ time.strftime(\"%x\"))\n",
    "plt.xlabel('City Latitude')\n",
    "plt.ylabel('Cloudiness')\n",
    "plt.show()"
   ]
  },
  {
   "cell_type": "markdown",
   "metadata": {},
   "source": [
    "## Latitude vs. Wind Speed Plot"
   ]
  },
  {
   "cell_type": "code",
   "execution_count": null,
   "metadata": {},
   "outputs": [],
   "source": [
    "# Creation of scatter plot lat vs wind speed\n",
    "x_values = clean_city_data['Lat']\n",
    "y_values = clean_city_data['Wind Speed']\n",
    "plt.scatter(x_values,y_values)\n",
    "plt.title(f\"City Latitude vs. Wind Speed \"+ time.strftime(\"%x\"))\n",
    "plt.xlabel('City Latitude')\n",
    "plt.ylabel('Cloudiness')\n",
    "plt.show()"
   ]
  },
  {
   "cell_type": "markdown",
   "metadata": {},
   "source": [
    "## Linear Regression"
   ]
  },
  {
   "cell_type": "code",
   "execution_count": null,
   "metadata": {},
   "outputs": [],
   "source": [
    "# Create Northen and Southern Hemisphere DataFrames.\n",
    "north_hemi_df = clean_city_data.loc[(city_data_df[\"Lat\"] >= 0)]\n",
    "south_hemi_df = clean_city_data.loc[(city_data_df[\"Lat\"] < 0)]"
   ]
  },
  {
   "cell_type": "markdown",
   "metadata": {},
   "source": [
    "####  Northern Hemisphere - Max Temp vs. Latitude Linear Regression"
   ]
  },
  {
   "cell_type": "code",
   "execution_count": null,
   "metadata": {},
   "outputs": [],
   "source": [
    "# import Lingress\n",
    "from scipy.stats import linregress\n",
    "\n",
    "# create scater plot with lat vs max temp plus linear regression\n",
    "x_values = north_hemi_df['Lat']\n",
    "y_values = north_hemi_df['Max Temp']\n",
    "\n",
    "# linear regression calc and plot\n",
    "(slope, intercept, rvalue, pvalue, stderr) = linregress(x_values, y_values)\n",
    "regress_values = x_values * slope + intercept\n",
    "line_eq = \"y = \" + str(round(slope,2)) + \"x + \" + str(round(intercept,2))\n",
    "plt.scatter(x_values,y_values)\n",
    "plt.plot(x_values,regress_values,\"r-\")\n",
    "plt.annotate(line_eq,(0,275),fontsize=15,color=\"red\")\n",
    "\n",
    "# Labeling and r value\n",
    "plt.title(f\"Northern Hemisphere City Latitude vs. Max Temp \"+ time.strftime(\"%x\"))\n",
    "plt.xlabel('City Latitude')\n",
    "plt.ylabel('Max Temperature F')\n",
    "print(f\"The r-value is: {rvalue}\")\n",
    "plt.show()"
   ]
  },
  {
   "cell_type": "markdown",
   "metadata": {},
   "source": [
    "####  Southern Hemisphere - Max Temp vs. Latitude Linear Regression"
   ]
  },
  {
   "cell_type": "code",
   "execution_count": null,
   "metadata": {},
   "outputs": [],
   "source": [
    "# create scater plot with lat vs max temp plus linear regression\n",
    "x_values = south_hemi_df['Lat']\n",
    "y_values = south_hemi_df['Max Temp']\n",
    "\n",
    "# linear regression calc and plot\n",
    "(slope, intercept, rvalue, pvalue, stderr) = linregress(x_values, y_values)\n",
    "regress_values = x_values * slope + intercept\n",
    "line_eq = \"y = \" + str(round(slope,2)) + \"x + \" + str(round(intercept,2))\n",
    "plt.scatter(x_values,y_values)\n",
    "plt.plot(x_values,regress_values,\"r-\")\n",
    "plt.annotate(line_eq,(0,275),fontsize=15,color=\"red\")\n",
    "\n",
    "# Labeling and r value\n",
    "plt.title(f\"Southern Hemisphere City Latitude vs. Max Temp \"+ time.strftime(\"%x\"))\n",
    "plt.xlabel('City Latitude')\n",
    "plt.ylabel('Max Temperature F')\n",
    "print(f\"The r-value is: {rvalue}\")\n",
    "plt.show()"
   ]
  },
  {
   "cell_type": "markdown",
   "metadata": {},
   "source": [
    "####  Northern Hemisphere - Humidity (%) vs. Latitude Linear Regression"
   ]
  },
  {
   "cell_type": "code",
   "execution_count": null,
   "metadata": {},
   "outputs": [],
   "source": [
    "# create scater plot with lat vs humidity plus linear regression\n",
    "x_values = north_hemi_df['Lat']\n",
    "y_values = north_hemi_df['Humidity']\n",
    "\n",
    "# linear regression calc and plot\n",
    "(slope, intercept, rvalue, pvalue, stderr) = linregress(x_values, y_values)\n",
    "regress_values = x_values * slope + intercept\n",
    "line_eq = \"y = \" + str(round(slope,2)) + \"x + \" + str(round(intercept,2))\n",
    "plt.scatter(x_values,y_values)\n",
    "plt.plot(x_values,regress_values,\"r-\")\n",
    "plt.annotate(line_eq,(45,10),fontsize=15,color=\"red\")\n",
    "\n",
    "# Labeling and r value\n",
    "plt.title(f\"Northern Hemisphere City Latitude vs. Humidity % \"+ time.strftime(\"%x\"))\n",
    "plt.xlabel('City Latitude')\n",
    "plt.ylabel('Humidity %')\n",
    "print(f\"The r-value is: {rvalue}\")\n",
    "plt.show()"
   ]
  },
  {
   "cell_type": "markdown",
   "metadata": {},
   "source": [
    "####  Southern Hemisphere - Humidity (%) vs. Latitude Linear Regression"
   ]
  },
  {
   "cell_type": "code",
   "execution_count": null,
   "metadata": {},
   "outputs": [],
   "source": [
    "# create scater plot with lat vs humidity plus linear regression\n",
    "x_values = south_hemi_df['Lat']\n",
    "y_values = south_hemi_df['Humidity']\n",
    "\n",
    "# linear regression calc and plot\n",
    "(slope, intercept, rvalue, pvalue, stderr) = linregress(x_values, y_values)\n",
    "regress_values = x_values * slope + intercept\n",
    "line_eq = \"y = \" + str(round(slope,2)) + \"x + \" + str(round(intercept,2))\n",
    "plt.scatter(x_values,y_values)\n",
    "plt.plot(x_values,regress_values,\"r-\")\n",
    "plt.annotate(line_eq,(-50,37),fontsize=15,color=\"red\")\n",
    "\n",
    "# Labeling and r value\n",
    "plt.title(f\"Southern Hemisphere City Latitude vs. Humidity % \"+ time.strftime(\"%x\"))\n",
    "plt.xlabel('City Latitude')\n",
    "plt.ylabel('Humidity %')\n",
    "print(f\"The r-value is: {rvalue}\")\n",
    "plt.show()"
   ]
  },
  {
   "cell_type": "markdown",
   "metadata": {},
   "source": [
    "####  Northern Hemisphere - Cloudiness (%) vs. Latitude Linear Regression"
   ]
  },
  {
   "cell_type": "code",
   "execution_count": null,
   "metadata": {},
   "outputs": [],
   "source": [
    "# create scater plot with lat vs Cloudiness plus linear regression\n",
    "x_values = north_hemi_df['Lat']\n",
    "y_values = north_hemi_df['Cloudiness']\n",
    "\n",
    "# linear regression calc and plot\n",
    "(slope, intercept, rvalue, pvalue, stderr) = linregress(x_values, y_values)\n",
    "regress_values = x_values * slope + intercept\n",
    "line_eq = \"y = \" + str(round(slope,2)) + \"x + \" + str(round(intercept,2))\n",
    "plt.scatter(x_values,y_values)\n",
    "plt.plot(x_values,regress_values,\"r-\")\n",
    "plt.annotate(line_eq,(30,65),fontsize=15,color=\"red\")\n",
    "\n",
    "# Labeling and r value\n",
    "plt.title(f\"Northern Hemisphere City Latitude vs. Cloudiness % \"+ time.strftime(\"%x\"))\n",
    "plt.xlabel('City Latitude')\n",
    "plt.ylabel('Cloudiness')\n",
    "print(f\"The r-value is: {rvalue}\")\n",
    "plt.show()"
   ]
  },
  {
   "cell_type": "markdown",
   "metadata": {},
   "source": [
    "####  Southern Hemisphere - Cloudiness (%) vs. Latitude Linear Regression"
   ]
  },
  {
   "cell_type": "code",
   "execution_count": null,
   "metadata": {},
   "outputs": [],
   "source": [
    "# create scater plot with lat vs Cloudiness plus linear regression\n",
    "x_values = south_hemi_df['Lat']\n",
    "y_values = south_hemi_df['Cloudiness']\n",
    "\n",
    "# linear regression calc and plot\n",
    "(slope, intercept, rvalue, pvalue, stderr) = linregress(x_values, y_values)\n",
    "regress_values = x_values * slope + intercept\n",
    "line_eq = \"y = \" + str(round(slope,2)) + \"x + \" + str(round(intercept,2))\n",
    "plt.scatter(x_values,y_values)\n",
    "plt.plot(x_values,regress_values,\"r-\")\n",
    "plt.annotate(line_eq,(-50,22),fontsize=15,color=\"red\")\n",
    "\n",
    "# Labeling and r value\n",
    "plt.title(f\"Southern Hemisphere City Latitude vs. Cloudiness \"+ time.strftime(\"%x\"))\n",
    "plt.xlabel('City Latitude')\n",
    "plt.ylabel('Humidity %')\n",
    "print(f\"The r-value is: {rvalue}\")\n",
    "plt.show()"
   ]
  },
  {
   "cell_type": "markdown",
   "metadata": {},
   "source": [
    "####  Northern Hemisphere - Wind Speed (mph) vs. Latitude Linear Regression"
   ]
  },
  {
   "cell_type": "code",
   "execution_count": null,
   "metadata": {},
   "outputs": [],
   "source": [
    "# create scater plot with lat vs Wind Speed plus linear regression\n",
    "x_values = north_hemi_df['Lat']\n",
    "y_values = north_hemi_df['Wind Speed']\n",
    "\n",
    "# linear regression calc and plot\n",
    "(slope, intercept, rvalue, pvalue, stderr) = linregress(x_values, y_values)\n",
    "regress_values = x_values * slope + intercept\n",
    "line_eq = \"y = \" + str(round(slope,2)) + \"x + \" + str(round(intercept,2))\n",
    "plt.scatter(x_values,y_values)\n",
    "plt.plot(x_values,regress_values,\"r-\")\n",
    "plt.annotate(line_eq,(40,10),fontsize=15,color=\"red\")\n",
    "\n",
    "# Labeling and r value\n",
    "plt.title(f\"Northern Hemisphere City Latitude vs. Wind Speed \"+ time.strftime(\"%x\"))\n",
    "plt.xlabel('City Latitude')\n",
    "plt.ylabel('Wind Speed (mph)')\n",
    "print(f\"The r-value is: {rvalue}\")\n",
    "plt.show()"
   ]
  },
  {
   "cell_type": "markdown",
   "metadata": {},
   "source": [
    "####  Southern Hemisphere - Wind Speed (mph) vs. Latitude Linear Regression"
   ]
  },
  {
   "cell_type": "code",
   "execution_count": null,
   "metadata": {},
   "outputs": [],
   "source": [
    "# create scater plot with lat vs Wind Speed plus linear regression\n",
    "x_values = south_hemi_df['Lat']\n",
    "y_values = south_hemi_df['Wind Speed']\n",
    "\n",
    "# linear regression calc and plot\n",
    "(slope, intercept, rvalue, pvalue, stderr) = linregress(x_values, y_values)\n",
    "regress_values = x_values * slope + intercept\n",
    "line_eq = \"y = \" + str(round(slope,2)) + \"x + \" + str(round(intercept,2))\n",
    "plt.scatter(x_values,y_values)\n",
    "plt.plot(x_values,regress_values,\"r-\")\n",
    "plt.annotate(line_eq,(-30,11),fontsize=15,color=\"red\")\n",
    "\n",
    "# Labeling and r value\n",
    "plt.title(f\"Southern Hemisphere City Latitude vs. Wind Speed \"+ time.strftime(\"%x\"))\n",
    "plt.xlabel('City Latitude')\n",
    "plt.ylabel('Wind Speed (mph)')\n",
    "print(f\"The r-value is: {rvalue}\")\n",
    "plt.show()"
   ]
  },
  {
   "cell_type": "code",
   "execution_count": null,
   "metadata": {},
   "outputs": [],
   "source": []
  }
 ],
 "metadata": {
  "anaconda-cloud": {},
  "kernel_info": {
   "name": "python3"
  },
  "kernelspec": {
   "display_name": "Python [conda env:bootcamp] *",
   "language": "python",
   "name": "conda-env-bootcamp-py"
  },
  "language_info": {
   "codemirror_mode": {
    "name": "ipython",
    "version": 3
   },
   "file_extension": ".py",
   "mimetype": "text/x-python",
   "name": "python",
   "nbconvert_exporter": "python",
   "pygments_lexer": "ipython3",
   "version": "3.7.13"
  },
  "latex_envs": {
   "LaTeX_envs_menu_present": true,
   "autoclose": false,
   "autocomplete": true,
   "bibliofile": "biblio.bib",
   "cite_by": "apalike",
   "current_citInitial": 1,
   "eqLabelWithNumbers": true,
   "eqNumInitial": 1,
   "hotkeys": {
    "equation": "Ctrl-E",
    "itemize": "Ctrl-I"
   },
   "labels_anchors": false,
   "latex_user_defs": false,
   "report_style_numbering": false,
   "user_envs_cfg": false
  },
  "nteract": {
   "version": "0.12.3"
  },
  "vscode": {
   "interpreter": {
    "hash": "2bc8728f68034420f4cc4c1a33cad6b752b6f009e9e443ca9c4b593c272a5f29"
   }
  }
 },
 "nbformat": 4,
 "nbformat_minor": 2
}
